{
 "cells": [
  {
   "cell_type": "code",
   "execution_count": 1,
   "source": [
    "import pandas as pd\r\n",
    "import numpy as np\r\n",
    "from sklearn.tree import DecisionTreeClassifier\r\n",
    "from sklearn.model_selection import GridSearchCV\r\n",
    "from sklearn.metrics import roc_auc_score\r\n",
    "from sklearn.model_selection import train_test_split\r\n",
    "from sklearn.svm import SVC\r\n",
    "from sklearn.preprocessing import MinMaxScaler\r\n",
    "from sklearn.linear_model import LogisticRegression\r\n",
    "from sklearn.ensemble import RandomForestClassifier\r\n",
    "from sklearn.neural_network import MLPClassifier\r\n",
    "from sklearn.naive_bayes import GaussianNB\r\n",
    "from sklearn.ensemble import GradientBoostingClassifier \r\n",
    "from xgboost import XGBClassifier\r\n",
    "from sklearn.metrics import f1_score\r\n"
   ],
   "outputs": [],
   "metadata": {}
  },
  {
   "cell_type": "code",
   "execution_count": 2,
   "source": [
    "def get_tr_set():\r\n",
    "    df_tr = pd.read_csv(r'train.csv')\r\n",
    "    return df_tr\r\n",
    "\r\n",
    "tr = get_tr_set()\r\n",
    "tr.head()"
   ],
   "outputs": [
    {
     "output_type": "execute_result",
     "data": {
      "text/plain": [
       "   PassengerId  Survived  Pclass  \\\n",
       "0            1         0       3   \n",
       "1            2         1       1   \n",
       "2            3         1       3   \n",
       "3            4         1       1   \n",
       "4            5         0       3   \n",
       "\n",
       "                                                Name     Sex   Age  SibSp  \\\n",
       "0                            Braund, Mr. Owen Harris    male  22.0      1   \n",
       "1  Cumings, Mrs. John Bradley (Florence Briggs Th...  female  38.0      1   \n",
       "2                             Heikkinen, Miss. Laina  female  26.0      0   \n",
       "3       Futrelle, Mrs. Jacques Heath (Lily May Peel)  female  35.0      1   \n",
       "4                           Allen, Mr. William Henry    male  35.0      0   \n",
       "\n",
       "   Parch            Ticket     Fare Cabin Embarked  \n",
       "0      0         A/5 21171   7.2500   NaN        S  \n",
       "1      0          PC 17599  71.2833   C85        C  \n",
       "2      0  STON/O2. 3101282   7.9250   NaN        S  \n",
       "3      0            113803  53.1000  C123        S  \n",
       "4      0            373450   8.0500   NaN        S  "
      ],
      "text/html": [
       "<div>\n",
       "<style scoped>\n",
       "    .dataframe tbody tr th:only-of-type {\n",
       "        vertical-align: middle;\n",
       "    }\n",
       "\n",
       "    .dataframe tbody tr th {\n",
       "        vertical-align: top;\n",
       "    }\n",
       "\n",
       "    .dataframe thead th {\n",
       "        text-align: right;\n",
       "    }\n",
       "</style>\n",
       "<table border=\"1\" class=\"dataframe\">\n",
       "  <thead>\n",
       "    <tr style=\"text-align: right;\">\n",
       "      <th></th>\n",
       "      <th>PassengerId</th>\n",
       "      <th>Survived</th>\n",
       "      <th>Pclass</th>\n",
       "      <th>Name</th>\n",
       "      <th>Sex</th>\n",
       "      <th>Age</th>\n",
       "      <th>SibSp</th>\n",
       "      <th>Parch</th>\n",
       "      <th>Ticket</th>\n",
       "      <th>Fare</th>\n",
       "      <th>Cabin</th>\n",
       "      <th>Embarked</th>\n",
       "    </tr>\n",
       "  </thead>\n",
       "  <tbody>\n",
       "    <tr>\n",
       "      <th>0</th>\n",
       "      <td>1</td>\n",
       "      <td>0</td>\n",
       "      <td>3</td>\n",
       "      <td>Braund, Mr. Owen Harris</td>\n",
       "      <td>male</td>\n",
       "      <td>22.0</td>\n",
       "      <td>1</td>\n",
       "      <td>0</td>\n",
       "      <td>A/5 21171</td>\n",
       "      <td>7.2500</td>\n",
       "      <td>NaN</td>\n",
       "      <td>S</td>\n",
       "    </tr>\n",
       "    <tr>\n",
       "      <th>1</th>\n",
       "      <td>2</td>\n",
       "      <td>1</td>\n",
       "      <td>1</td>\n",
       "      <td>Cumings, Mrs. John Bradley (Florence Briggs Th...</td>\n",
       "      <td>female</td>\n",
       "      <td>38.0</td>\n",
       "      <td>1</td>\n",
       "      <td>0</td>\n",
       "      <td>PC 17599</td>\n",
       "      <td>71.2833</td>\n",
       "      <td>C85</td>\n",
       "      <td>C</td>\n",
       "    </tr>\n",
       "    <tr>\n",
       "      <th>2</th>\n",
       "      <td>3</td>\n",
       "      <td>1</td>\n",
       "      <td>3</td>\n",
       "      <td>Heikkinen, Miss. Laina</td>\n",
       "      <td>female</td>\n",
       "      <td>26.0</td>\n",
       "      <td>0</td>\n",
       "      <td>0</td>\n",
       "      <td>STON/O2. 3101282</td>\n",
       "      <td>7.9250</td>\n",
       "      <td>NaN</td>\n",
       "      <td>S</td>\n",
       "    </tr>\n",
       "    <tr>\n",
       "      <th>3</th>\n",
       "      <td>4</td>\n",
       "      <td>1</td>\n",
       "      <td>1</td>\n",
       "      <td>Futrelle, Mrs. Jacques Heath (Lily May Peel)</td>\n",
       "      <td>female</td>\n",
       "      <td>35.0</td>\n",
       "      <td>1</td>\n",
       "      <td>0</td>\n",
       "      <td>113803</td>\n",
       "      <td>53.1000</td>\n",
       "      <td>C123</td>\n",
       "      <td>S</td>\n",
       "    </tr>\n",
       "    <tr>\n",
       "      <th>4</th>\n",
       "      <td>5</td>\n",
       "      <td>0</td>\n",
       "      <td>3</td>\n",
       "      <td>Allen, Mr. William Henry</td>\n",
       "      <td>male</td>\n",
       "      <td>35.0</td>\n",
       "      <td>0</td>\n",
       "      <td>0</td>\n",
       "      <td>373450</td>\n",
       "      <td>8.0500</td>\n",
       "      <td>NaN</td>\n",
       "      <td>S</td>\n",
       "    </tr>\n",
       "  </tbody>\n",
       "</table>\n",
       "</div>"
      ]
     },
     "metadata": {},
     "execution_count": 2
    }
   ],
   "metadata": {}
  },
  {
   "cell_type": "code",
   "execution_count": 3,
   "source": [
    "def get_t_set():\r\n",
    "    df_t = pd.read_csv(r'test.csv')\r\n",
    "    return df_t\r\n",
    "\r\n",
    "t = get_t_set()\r\n",
    "t.head()\r\n"
   ],
   "outputs": [
    {
     "output_type": "execute_result",
     "data": {
      "text/plain": [
       "   PassengerId  Pclass                                          Name     Sex  \\\n",
       "0          892       3                              Kelly, Mr. James    male   \n",
       "1          893       3              Wilkes, Mrs. James (Ellen Needs)  female   \n",
       "2          894       2                     Myles, Mr. Thomas Francis    male   \n",
       "3          895       3                              Wirz, Mr. Albert    male   \n",
       "4          896       3  Hirvonen, Mrs. Alexander (Helga E Lindqvist)  female   \n",
       "\n",
       "    Age  SibSp  Parch   Ticket     Fare Cabin Embarked  \n",
       "0  34.5      0      0   330911   7.8292   NaN        Q  \n",
       "1  47.0      1      0   363272   7.0000   NaN        S  \n",
       "2  62.0      0      0   240276   9.6875   NaN        Q  \n",
       "3  27.0      0      0   315154   8.6625   NaN        S  \n",
       "4  22.0      1      1  3101298  12.2875   NaN        S  "
      ],
      "text/html": [
       "<div>\n",
       "<style scoped>\n",
       "    .dataframe tbody tr th:only-of-type {\n",
       "        vertical-align: middle;\n",
       "    }\n",
       "\n",
       "    .dataframe tbody tr th {\n",
       "        vertical-align: top;\n",
       "    }\n",
       "\n",
       "    .dataframe thead th {\n",
       "        text-align: right;\n",
       "    }\n",
       "</style>\n",
       "<table border=\"1\" class=\"dataframe\">\n",
       "  <thead>\n",
       "    <tr style=\"text-align: right;\">\n",
       "      <th></th>\n",
       "      <th>PassengerId</th>\n",
       "      <th>Pclass</th>\n",
       "      <th>Name</th>\n",
       "      <th>Sex</th>\n",
       "      <th>Age</th>\n",
       "      <th>SibSp</th>\n",
       "      <th>Parch</th>\n",
       "      <th>Ticket</th>\n",
       "      <th>Fare</th>\n",
       "      <th>Cabin</th>\n",
       "      <th>Embarked</th>\n",
       "    </tr>\n",
       "  </thead>\n",
       "  <tbody>\n",
       "    <tr>\n",
       "      <th>0</th>\n",
       "      <td>892</td>\n",
       "      <td>3</td>\n",
       "      <td>Kelly, Mr. James</td>\n",
       "      <td>male</td>\n",
       "      <td>34.5</td>\n",
       "      <td>0</td>\n",
       "      <td>0</td>\n",
       "      <td>330911</td>\n",
       "      <td>7.8292</td>\n",
       "      <td>NaN</td>\n",
       "      <td>Q</td>\n",
       "    </tr>\n",
       "    <tr>\n",
       "      <th>1</th>\n",
       "      <td>893</td>\n",
       "      <td>3</td>\n",
       "      <td>Wilkes, Mrs. James (Ellen Needs)</td>\n",
       "      <td>female</td>\n",
       "      <td>47.0</td>\n",
       "      <td>1</td>\n",
       "      <td>0</td>\n",
       "      <td>363272</td>\n",
       "      <td>7.0000</td>\n",
       "      <td>NaN</td>\n",
       "      <td>S</td>\n",
       "    </tr>\n",
       "    <tr>\n",
       "      <th>2</th>\n",
       "      <td>894</td>\n",
       "      <td>2</td>\n",
       "      <td>Myles, Mr. Thomas Francis</td>\n",
       "      <td>male</td>\n",
       "      <td>62.0</td>\n",
       "      <td>0</td>\n",
       "      <td>0</td>\n",
       "      <td>240276</td>\n",
       "      <td>9.6875</td>\n",
       "      <td>NaN</td>\n",
       "      <td>Q</td>\n",
       "    </tr>\n",
       "    <tr>\n",
       "      <th>3</th>\n",
       "      <td>895</td>\n",
       "      <td>3</td>\n",
       "      <td>Wirz, Mr. Albert</td>\n",
       "      <td>male</td>\n",
       "      <td>27.0</td>\n",
       "      <td>0</td>\n",
       "      <td>0</td>\n",
       "      <td>315154</td>\n",
       "      <td>8.6625</td>\n",
       "      <td>NaN</td>\n",
       "      <td>S</td>\n",
       "    </tr>\n",
       "    <tr>\n",
       "      <th>4</th>\n",
       "      <td>896</td>\n",
       "      <td>3</td>\n",
       "      <td>Hirvonen, Mrs. Alexander (Helga E Lindqvist)</td>\n",
       "      <td>female</td>\n",
       "      <td>22.0</td>\n",
       "      <td>1</td>\n",
       "      <td>1</td>\n",
       "      <td>3101298</td>\n",
       "      <td>12.2875</td>\n",
       "      <td>NaN</td>\n",
       "      <td>S</td>\n",
       "    </tr>\n",
       "  </tbody>\n",
       "</table>\n",
       "</div>"
      ]
     },
     "metadata": {},
     "execution_count": 3
    }
   ],
   "metadata": {}
  },
  {
   "cell_type": "code",
   "execution_count": 4,
   "source": [
    "tr.nunique()"
   ],
   "outputs": [
    {
     "output_type": "execute_result",
     "data": {
      "text/plain": [
       "PassengerId    891\n",
       "Survived         2\n",
       "Pclass           3\n",
       "Name           891\n",
       "Sex              2\n",
       "Age             88\n",
       "SibSp            7\n",
       "Parch            7\n",
       "Ticket         681\n",
       "Fare           248\n",
       "Cabin          147\n",
       "Embarked         3\n",
       "dtype: int64"
      ]
     },
     "metadata": {},
     "execution_count": 4
    }
   ],
   "metadata": {}
  },
  {
   "cell_type": "code",
   "execution_count": 5,
   "source": [
    "tr.isnull().sum()"
   ],
   "outputs": [
    {
     "output_type": "execute_result",
     "data": {
      "text/plain": [
       "PassengerId      0\n",
       "Survived         0\n",
       "Pclass           0\n",
       "Name             0\n",
       "Sex              0\n",
       "Age            177\n",
       "SibSp            0\n",
       "Parch            0\n",
       "Ticket           0\n",
       "Fare             0\n",
       "Cabin          687\n",
       "Embarked         2\n",
       "dtype: int64"
      ]
     },
     "metadata": {},
     "execution_count": 5
    }
   ],
   "metadata": {}
  },
  {
   "cell_type": "code",
   "execution_count": 6,
   "source": [
    "tr.drop(['Ticket','Embarked','PassengerId', 'Name'], axis = 1, inplace=True)\r\n",
    "tr.Sex = tr.Sex.map({'male': 1, 'female':0})\r\n",
    "tr['Cabin'] = pd.to_numeric(tr['Cabin'].str.replace('\\D', ''), errors='coerce')\r\n",
    "\r\n",
    "tr[\"Cabin\"] = tr[\"Cabin\"].fillna('-1')\r\n",
    "tr['Age'] = tr['Age'].fillna(tr['Age'].mean())\r\n",
    "tr['NotAlone'] = tr.Parch + tr.SibSp\r\n",
    "tr.drop(['Parch', 'SibSp'], axis=1, inplace=True)\r\n",
    "cut_l = [-1, tr.Fare.max()/4, tr.Fare.max()/4*2,tr.Fare.max()/4*3,np.inf]\r\n",
    "tr['ti_pr'] = pd.cut(tr['Fare'],  bins = cut_l, labels=[1,2,3,4])\r\n",
    "tr.drop('Fare', axis=1, inplace=True)\r\n",
    "tr_targ = tr['Survived']\r\n",
    "tr.drop('Survived', axis=1, inplace=True)\r\n"
   ],
   "outputs": [
    {
     "output_type": "stream",
     "name": "stderr",
     "text": [
      "<ipython-input-6-bad01d8b0d66>:3: FutureWarning: The default value of regex will change from True to False in a future version.\n",
      "  tr['Cabin'] = pd.to_numeric(tr['Cabin'].str.replace('\\D', ''), errors='coerce')\n"
     ]
    }
   ],
   "metadata": {}
  },
  {
   "cell_type": "code",
   "execution_count": 7,
   "source": [
    "tr"
   ],
   "outputs": [
    {
     "output_type": "execute_result",
     "data": {
      "text/plain": [
       "     Pclass  Sex        Age  Cabin  NotAlone ti_pr\n",
       "0         3    1  22.000000     -1         1     1\n",
       "1         1    0  38.000000   85.0         1     1\n",
       "2         3    0  26.000000     -1         0     1\n",
       "3         1    0  35.000000  123.0         1     1\n",
       "4         3    1  35.000000     -1         0     1\n",
       "..      ...  ...        ...    ...       ...   ...\n",
       "886       2    1  27.000000     -1         0     1\n",
       "887       1    0  19.000000   42.0         0     1\n",
       "888       3    0  29.699118     -1         3     1\n",
       "889       1    1  26.000000  148.0         0     1\n",
       "890       3    1  32.000000     -1         0     1\n",
       "\n",
       "[891 rows x 6 columns]"
      ],
      "text/html": [
       "<div>\n",
       "<style scoped>\n",
       "    .dataframe tbody tr th:only-of-type {\n",
       "        vertical-align: middle;\n",
       "    }\n",
       "\n",
       "    .dataframe tbody tr th {\n",
       "        vertical-align: top;\n",
       "    }\n",
       "\n",
       "    .dataframe thead th {\n",
       "        text-align: right;\n",
       "    }\n",
       "</style>\n",
       "<table border=\"1\" class=\"dataframe\">\n",
       "  <thead>\n",
       "    <tr style=\"text-align: right;\">\n",
       "      <th></th>\n",
       "      <th>Pclass</th>\n",
       "      <th>Sex</th>\n",
       "      <th>Age</th>\n",
       "      <th>Cabin</th>\n",
       "      <th>NotAlone</th>\n",
       "      <th>ti_pr</th>\n",
       "    </tr>\n",
       "  </thead>\n",
       "  <tbody>\n",
       "    <tr>\n",
       "      <th>0</th>\n",
       "      <td>3</td>\n",
       "      <td>1</td>\n",
       "      <td>22.000000</td>\n",
       "      <td>-1</td>\n",
       "      <td>1</td>\n",
       "      <td>1</td>\n",
       "    </tr>\n",
       "    <tr>\n",
       "      <th>1</th>\n",
       "      <td>1</td>\n",
       "      <td>0</td>\n",
       "      <td>38.000000</td>\n",
       "      <td>85.0</td>\n",
       "      <td>1</td>\n",
       "      <td>1</td>\n",
       "    </tr>\n",
       "    <tr>\n",
       "      <th>2</th>\n",
       "      <td>3</td>\n",
       "      <td>0</td>\n",
       "      <td>26.000000</td>\n",
       "      <td>-1</td>\n",
       "      <td>0</td>\n",
       "      <td>1</td>\n",
       "    </tr>\n",
       "    <tr>\n",
       "      <th>3</th>\n",
       "      <td>1</td>\n",
       "      <td>0</td>\n",
       "      <td>35.000000</td>\n",
       "      <td>123.0</td>\n",
       "      <td>1</td>\n",
       "      <td>1</td>\n",
       "    </tr>\n",
       "    <tr>\n",
       "      <th>4</th>\n",
       "      <td>3</td>\n",
       "      <td>1</td>\n",
       "      <td>35.000000</td>\n",
       "      <td>-1</td>\n",
       "      <td>0</td>\n",
       "      <td>1</td>\n",
       "    </tr>\n",
       "    <tr>\n",
       "      <th>...</th>\n",
       "      <td>...</td>\n",
       "      <td>...</td>\n",
       "      <td>...</td>\n",
       "      <td>...</td>\n",
       "      <td>...</td>\n",
       "      <td>...</td>\n",
       "    </tr>\n",
       "    <tr>\n",
       "      <th>886</th>\n",
       "      <td>2</td>\n",
       "      <td>1</td>\n",
       "      <td>27.000000</td>\n",
       "      <td>-1</td>\n",
       "      <td>0</td>\n",
       "      <td>1</td>\n",
       "    </tr>\n",
       "    <tr>\n",
       "      <th>887</th>\n",
       "      <td>1</td>\n",
       "      <td>0</td>\n",
       "      <td>19.000000</td>\n",
       "      <td>42.0</td>\n",
       "      <td>0</td>\n",
       "      <td>1</td>\n",
       "    </tr>\n",
       "    <tr>\n",
       "      <th>888</th>\n",
       "      <td>3</td>\n",
       "      <td>0</td>\n",
       "      <td>29.699118</td>\n",
       "      <td>-1</td>\n",
       "      <td>3</td>\n",
       "      <td>1</td>\n",
       "    </tr>\n",
       "    <tr>\n",
       "      <th>889</th>\n",
       "      <td>1</td>\n",
       "      <td>1</td>\n",
       "      <td>26.000000</td>\n",
       "      <td>148.0</td>\n",
       "      <td>0</td>\n",
       "      <td>1</td>\n",
       "    </tr>\n",
       "    <tr>\n",
       "      <th>890</th>\n",
       "      <td>3</td>\n",
       "      <td>1</td>\n",
       "      <td>32.000000</td>\n",
       "      <td>-1</td>\n",
       "      <td>0</td>\n",
       "      <td>1</td>\n",
       "    </tr>\n",
       "  </tbody>\n",
       "</table>\n",
       "<p>891 rows × 6 columns</p>\n",
       "</div>"
      ]
     },
     "metadata": {},
     "execution_count": 7
    }
   ],
   "metadata": {}
  },
  {
   "cell_type": "code",
   "execution_count": 8,
   "source": [
    "tr.isnull().sum()"
   ],
   "outputs": [
    {
     "output_type": "execute_result",
     "data": {
      "text/plain": [
       "Pclass      0\n",
       "Sex         0\n",
       "Age         0\n",
       "Cabin       0\n",
       "NotAlone    0\n",
       "ti_pr       0\n",
       "dtype: int64"
      ]
     },
     "metadata": {},
     "execution_count": 8
    }
   ],
   "metadata": {}
  },
  {
   "cell_type": "code",
   "execution_count": 9,
   "source": [
    "X, y  = tr, tr_targ == 1\r\n",
    "X_train, X_test, y_train, y_test = train_test_split(X, y, random_state=0)\r\n"
   ],
   "outputs": [],
   "metadata": {}
  },
  {
   "cell_type": "code",
   "execution_count": 10,
   "source": [
    "clf = DecisionTreeClassifier(random_state=0)\r\n",
    "params_grid = {'max_depth': np.arange(3, 8),\r\n",
    "              'max_leaf_nodes':list(range(4,20,4)),\r\n",
    "              'max_features':[4,5,6]\r\n",
    "               }\r\n",
    "grid_clf = GridSearchCV(clf, params_grid)\r\n",
    "grid_clf.fit(X_train, y_train)\r\n",
    "\r\n",
    "print('Grid best parameter: ', grid_clf.best_params_)\r\n",
    "print('Grid best score: ', grid_clf.best_score_)"
   ],
   "outputs": [
    {
     "output_type": "stream",
     "name": "stdout",
     "text": [
      "Grid best parameter:  {'max_depth': 4, 'max_features': 6, 'max_leaf_nodes': 12}\n",
      "Grid best score:  0.833879474806419\n"
     ]
    }
   ],
   "metadata": {}
  },
  {
   "cell_type": "code",
   "execution_count": 11,
   "source": [
    "def normalize(X_train, X_test):\r\n",
    "    print ('normalizing.')\r\n",
    "    scaler= MinMaxScaler()\r\n",
    "    X_train_scaled= scaler.fit_transform(X_train)\r\n",
    "    X_test_scaled = scaler.transform(X_test)\r\n",
    "    return X_train_scaled, X_test_scaled \r\n",
    "\r\n",
    "X_train_scaled, X_test_scaled  = normalize(X_train, X_test)"
   ],
   "outputs": [
    {
     "output_type": "stream",
     "name": "stdout",
     "text": [
      "normalizing.\n"
     ]
    }
   ],
   "metadata": {}
  },
  {
   "cell_type": "code",
   "execution_count": 12,
   "source": [
    "clf = RandomForestClassifier(n_estimators= 20)       \r\n",
    "\r\n",
    "from sklearn.model_selection import cross_val_score \r\n",
    "f1_train = cross_val_score(clf, X_train_scaled, y_train, cv=5, scoring='f1')\r\n",
    "print (f1_train)\r\n",
    "            \r\n",
    "clf.fit(X_train_scaled, y_train)\r\n",
    "y_predict= clf.predict(X_test_scaled)\r\n",
    "\r\n",
    "np.mean(y_predict)"
   ],
   "outputs": [
    {
     "output_type": "stream",
     "name": "stdout",
     "text": [
      "[0.70212766 0.72897196 0.71028037 0.68817204 0.78787879]\n"
     ]
    },
    {
     "output_type": "execute_result",
     "data": {
      "text/plain": [
       "0.37668161434977576"
      ]
     },
     "metadata": {},
     "execution_count": 12
    }
   ],
   "metadata": {}
  },
  {
   "cell_type": "code",
   "execution_count": 13,
   "source": [
    "def run_GridSearchCV(clf,grid_values, X_train_scaled, X_test_scaled, y_train, y_test= None):\r\n",
    "\r\n",
    "\r\n",
    "    print ('Running GridSearchCV.')\r\n",
    "    grid_clf = GridSearchCV(clf, param_grid=grid_values,scoring='f1')\r\n",
    "    grid_clf.fit(X_train_scaled, y_train)\r\n",
    "    print('Grid best parameter (max f1 ): ', grid_clf.best_params_) \r\n",
    "    print('Grid best score (f1): ', grid_clf.best_score_) \r\n",
    "\r\n",
    "    if not y_test is None:\r\n",
    "        test_score= grid_clf.score(X_test_scaled, y_test)\r\n",
    "        print(\"test f1= {}\".format(test_score))\r\n",
    "\r\n",
    "\r\n",
    "def run_all_classifiers(X_train_scaled, X_test_scaled, y_train, y_test=None, list_classifiers= None):\r\n",
    "    if list_classifiers is None or 'LogisticRegression' in list_classifiers:\r\n",
    "        print ('\\nLogisticRegression.')\r\n",
    "        clf = LogisticRegression(max_iter=10000)\r\n",
    "        grid_values = {'C': [0.005, 0.01,0.1, 1, 100, 10000, 100000]}\r\n",
    "        run_GridSearchCV(clf,grid_values, X_train_scaled,X_test_scaled,  y_train,  y_test= y_test)\r\n",
    "\r\n",
    "    if list_classifiers is None or 'DecisionTreeClassifier' in list_classifiers:\r\n",
    "        print ('\\nDecisionTreeClassifier')\r\n",
    "        clf = DecisionTreeClassifier()       \r\n",
    "        grid_values = {'max_depth': [2,5,7, 20, 50]}\r\n",
    "        run_GridSearchCV(clf,grid_values, X_train_scaled, X_test_scaled, y_train,  y_test= y_test)   \r\n",
    "\r\n",
    "    if list_classifiers is None or 'RandomForestClassifier' in list_classifiers:\r\n",
    "        print ('\\nRandomForestClassifier.')\r\n",
    "        clf = RandomForestClassifier()       \r\n",
    "        grid_values = {'n_estimators': [20,50,200,300]}\r\n",
    "        run_GridSearchCV(clf,grid_values, X_train_scaled,X_test_scaled, y_train,  y_test= y_test)   \r\n",
    "\r\n",
    "    if list_classifiers is None or 'SVC_poly' in list_classifiers:\r\n",
    "        print ('\\nSVC_poly')\r\n",
    "        clf = SVC(kernel='poly')           \r\n",
    "        grid_values = {'C': [0.01 , 0.1, 1, 100, ]}\r\n",
    "        run_GridSearchCV(clf,grid_values, X_train_scaled, X_test_scaled, y_train,  y_test= y_test)   \r\n",
    "\r\n",
    "    if list_classifiers is None or 'SVC_rbf' in list_classifiers:\r\n",
    "        print ('\\nSVC_rbf')\r\n",
    "        clf = SVC(kernel='rbf')\r\n",
    "        grid_values = {'C': [0.005, 0.01, 0.02, 0.03, 0.1, 1, 100, 10000], 'gamma':[0.001, 0.01, 0.1]}\r\n",
    "        run_GridSearchCV(clf,grid_values, X_train_scaled, X_test_scaled, y_train,  y_test= y_test)   \r\n",
    "\r\n",
    "    if list_classifiers is None or 'NB' in list_classifiers:\r\n",
    "        print ('\\nNB')\r\n",
    "        clf =  GaussianNB().fit(X_train_scaled, y_train)\r\n",
    "        train_f1 = f1_score(y_train, clf.predict(X_train_scaled))\r\n",
    "        print(\"train set f1= {}\".format(train_f1))\r\n",
    "        if not y_test is None:\r\n",
    "            test_f1 = f1_score(y_test, clf.predict(X_test_scaled))\r\n",
    "            print(\"train set f1= {}\".format(test_f1))\r\n",
    "\r\n",
    "            \r\n",
    "    if list_classifiers is None or 'GradientBoostingClassifier' in list_classifiers:\r\n",
    "        print ('\\nGradientBoostingClassifier.')\r\n",
    "        clf = GradientBoostingClassifier()       \r\n",
    "        grid_values = {'max_depth': [3,5,7]}\r\n",
    "        run_GridSearchCV(clf,grid_values, X_train_scaled,X_test_scaled, y_train,  y_test= y_test)   \r\n",
    "\r\n",
    "   \r\n",
    "    if list_classifiers is None or 'xgboost' in list_classifiers:\r\n",
    "        print ('\\nxgboost.')\r\n",
    "        clf = XGBClassifier().fit(X_train_scaled, y_train)\r\n",
    "        y_predicted = clf.predict(X_test_scaled)\r\n",
    "        print ('f1_score  = {:.2}'.format(f1_score(y_test, y_predicted)))\r\n",
    "        \r\n",
    "\r\n"
   ],
   "outputs": [],
   "metadata": {}
  },
  {
   "cell_type": "code",
   "execution_count": 20,
   "source": [
    "list_classifiers= [\r\n",
    "    'LogisticRegression',\r\n",
    "    'DecisionTreeClassifier',\r\n",
    "    'RandomForestClassifier',\r\n",
    "    'NB',\r\n",
    "    'GradientBoostingClassifier', \r\n",
    "    # 'xgboost', \r\n",
    "    \r\n",
    "    \r\n",
    "   \r\n",
    "]\r\n",
    "run_all_classifiers(X_train_scaled, X_test_scaled, y_train, y_test, list_classifiers= list_classifiers)"
   ],
   "outputs": [
    {
     "output_type": "stream",
     "name": "stdout",
     "text": [
      "\n",
      "LogisticRegression.\n",
      "Running GridSearchCV.\n",
      "Grid best parameter (max f1 ):  {'C': 1}\n",
      "Grid best score (f1):  0.7254904313206164\n",
      "test f1= 0.7073170731707318\n",
      "\n",
      "DecisionTreeClassifier\n",
      "Running GridSearchCV.\n",
      "Grid best parameter (max f1 ):  {'max_depth': 5}\n",
      "Grid best score (f1):  0.7413745877675059\n",
      "test f1= 0.7435897435897436\n",
      "\n",
      "RandomForestClassifier.\n",
      "Running GridSearchCV.\n",
      "Grid best parameter (max f1 ):  {'n_estimators': 20}\n",
      "Grid best score (f1):  0.7238425711488627\n",
      "test f1= 0.7073170731707318\n",
      "\n",
      "NB\n",
      "train set f1= 0.7226890756302521\n",
      "train set f1= 0.7204968944099378\n",
      "\n",
      "GradientBoostingClassifier.\n",
      "Running GridSearchCV.\n",
      "Grid best parameter (max f1 ):  {'max_depth': 3}\n",
      "Grid best score (f1):  0.757977968333494\n",
      "test f1= 0.7730061349693252\n"
     ]
    }
   ],
   "metadata": {}
  },
  {
   "cell_type": "code",
   "execution_count": 21,
   "source": [
    "clf = RandomForestClassifier(n_estimators= 20)       \r\n",
    "\r\n",
    "from sklearn.model_selection import cross_val_score\r\n",
    "f1_train = cross_val_score(clf, X_train_scaled, y_train, cv=5, scoring='f1')\r\n",
    "print (f1_train)\r\n",
    "            \r\n",
    "clf.fit(X_train_scaled, y_train)\r\n",
    "y_predict= clf.predict(X_test_scaled)\r\n",
    "\r\n",
    "np.mean(y_predict)"
   ],
   "outputs": [
    {
     "output_type": "stream",
     "name": "stdout",
     "text": [
      "[0.7        0.73584906 0.70588235 0.72340426 0.75510204]\n"
     ]
    },
    {
     "output_type": "execute_result",
     "data": {
      "text/plain": [
       "0.3811659192825112"
      ]
     },
     "metadata": {},
     "execution_count": 21
    }
   ],
   "metadata": {}
  },
  {
   "cell_type": "code",
   "execution_count": 22,
   "source": [
    "clf = DecisionTreeClassifier(random_state=0, max_depth = 4,max_leaf_nodes = 12,max_features= 6).fit(X_train, y_train)\r\n",
    "clf.score(X_test,y_test)"
   ],
   "outputs": [
    {
     "output_type": "execute_result",
     "data": {
      "text/plain": [
       "0.820627802690583"
      ]
     },
     "metadata": {},
     "execution_count": 22
    }
   ],
   "metadata": {}
  },
  {
   "cell_type": "code",
   "execution_count": null,
   "source": [],
   "outputs": [],
   "metadata": {}
  }
 ],
 "metadata": {
  "language_info": {
   "name": "python",
   "version": "3.8.10",
   "mimetype": "text/x-python",
   "codemirror_mode": {
    "name": "ipython",
    "version": 3
   },
   "pygments_lexer": "ipython3",
   "nbconvert_exporter": "python",
   "file_extension": ".py"
  },
  "kernelspec": {
   "name": "python3",
   "display_name": "Python 3.8.10 64-bit ('Test1': conda)"
  },
  "interpreter": {
   "hash": "ae22ff7b4990f16f2107899c7d411110cc54095c4c6bd2738b6d044e1b22e01d"
  }
 },
 "nbformat": 4,
 "nbformat_minor": 5
}