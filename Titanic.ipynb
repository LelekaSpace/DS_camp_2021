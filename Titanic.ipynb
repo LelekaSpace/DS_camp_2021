{
 "cells": [
  {
   "cell_type": "code",
   "execution_count": 2,
   "source": [
    "import pandas as pd\r\n",
    "import numpy as np\r\n",
    "from sklearn.tree import DecisionTreeClassifier\r\n",
    "from sklearn.model_selection import GridSearchCV\r\n",
    "from sklearn.model_selection import train_test_split\r\n",
    "\r\n"
   ],
   "outputs": [],
   "metadata": {}
  },
  {
   "cell_type": "code",
   "execution_count": 3,
   "source": [
    "def get_tr_set():\r\n",
    "    df_tr = pd.read_csv(r'train.csv')\r\n",
    "    return df_tr\r\n",
    "\r\n",
    "tr = get_tr_set()\r\n",
    "# tr.head()"
   ],
   "outputs": [],
   "metadata": {}
  },
  {
   "cell_type": "code",
   "execution_count": 4,
   "source": [
    "def get_t_set():\r\n",
    "    df_t = pd.read_csv(r'test.csv')\r\n",
    "    return df_t\r\n",
    "\r\n",
    "t = get_t_set()\r\n",
    "# t = t.set_index('PassengerId')\r\n",
    "# t.head()\r\n"
   ],
   "outputs": [],
   "metadata": {}
  },
  {
   "cell_type": "code",
   "execution_count": 5,
   "source": [
    "def get_ge():\r\n",
    "    g_s = pd.read_csv(r'gender_submission.csv')\r\n",
    "    return g_s\r\n",
    "\r\n",
    "g_s = get_ge()\r\n",
    "# g_s = g_s.set_index('PassengerId')\r\n",
    "# g_s"
   ],
   "outputs": [],
   "metadata": {}
  },
  {
   "cell_type": "code",
   "execution_count": 6,
   "source": [
    "# tr.nunique()"
   ],
   "outputs": [],
   "metadata": {}
  },
  {
   "cell_type": "code",
   "execution_count": 7,
   "source": [
    "# tr.isnull().sum()"
   ],
   "outputs": [],
   "metadata": {}
  },
  {
   "cell_type": "code",
   "execution_count": 8,
   "source": [
    "tr.drop(['Ticket','Embarked','PassengerId', 'Name'], axis = 1, inplace=True)\r\n",
    "tr.Sex = tr.Sex.map({'male': 1, 'female':0})\r\n",
    "tr['Cabin'] = pd.to_numeric(tr['Cabin'].str.replace('\\D', ''), errors='coerce')\r\n",
    "\r\n",
    "tr[\"Cabin\"] = tr[\"Cabin\"].fillna('-1')\r\n",
    "tr['Age'] = tr['Age'].fillna(tr['Age'].mean())\r\n",
    "tr['NotAlone'] = tr.Parch + tr.SibSp\r\n",
    "tr.drop(['Parch', 'SibSp'], axis=1, inplace=True)\r\n",
    "cut_l = [-1, tr.Fare.max()/4, tr.Fare.max()/4*2,tr.Fare.max()/4*3,np.inf]\r\n",
    "tr['ti_pr'] = pd.cut(tr['Fare'],  bins = cut_l, labels=[1,2,3,4])\r\n",
    "tr.drop('Fare', axis=1, inplace=True)\r\n",
    "tr_targ = tr['Survived']\r\n",
    "tr.drop('Survived', axis=1, inplace=True)\r\n"
   ],
   "outputs": [
    {
     "output_type": "stream",
     "name": "stderr",
     "text": [
      "<ipython-input-8-bad01d8b0d66>:3: FutureWarning: The default value of regex will change from True to False in a future version.\n",
      "  tr['Cabin'] = pd.to_numeric(tr['Cabin'].str.replace('\\D', ''), errors='coerce')\n"
     ]
    }
   ],
   "metadata": {}
  },
  {
   "cell_type": "code",
   "execution_count": 9,
   "source": [
    "# tr.isnull().sum()"
   ],
   "outputs": [],
   "metadata": {}
  },
  {
   "cell_type": "code",
   "execution_count": 10,
   "source": [
    "X, y  = tr, tr_targ == 1\r\n",
    "X_train, X_test, y_train, y_test = train_test_split(X, y, random_state=0)\r\n",
    "\r\n"
   ],
   "outputs": [],
   "metadata": {}
  },
  {
   "cell_type": "code",
   "execution_count": 11,
   "source": [
    "clf = DecisionTreeClassifier(random_state=0)\r\n",
    "params_grid = {'max_depth': np.arange(3, 8),\r\n",
    "              'max_leaf_nodes':list(range(4,20,4)),\r\n",
    "              'max_features':[4,5,6]\r\n",
    "               }\r\n",
    "grid_clf = GridSearchCV(clf, params_grid)\r\n",
    "grid_clf.fit(X_train, y_train)\r\n",
    "\r\n",
    "print('Grid best parameter: ', grid_clf.best_params_)\r\n",
    "print('Grid best score: ', grid_clf.best_score_)"
   ],
   "outputs": [
    {
     "output_type": "stream",
     "name": "stdout",
     "text": [
      "Grid best parameter:  {'max_depth': 4, 'max_features': 6, 'max_leaf_nodes': 12}\n",
      "Grid best score:  0.833879474806419\n"
     ]
    }
   ],
   "metadata": {}
  },
  {
   "cell_type": "code",
   "execution_count": 12,
   "source": [
    "clf = DecisionTreeClassifier(random_state=0, max_depth = 4,max_leaf_nodes = 12,max_features= 6).fit(X_train, y_train)\r\n",
    "clf.score(X_test,y_test)"
   ],
   "outputs": [
    {
     "output_type": "execute_result",
     "data": {
      "text/plain": [
       "0.820627802690583"
      ]
     },
     "metadata": {},
     "execution_count": 12
    }
   ],
   "metadata": {}
  },
  {
   "cell_type": "code",
   "execution_count": 13,
   "source": [
    "t.drop(['Ticket','Embarked','PassengerId', 'Name'], axis = 1, inplace=True)\r\n",
    "t = t.drop(t.index[152])\r\n",
    "g_s = g_s.drop(g_s.index[152])\r\n",
    "t.Sex = t.Sex.map({'male': 1, 'female':0})\r\n",
    "t['Cabin'] = pd.to_numeric(t['Cabin'].str.replace('\\D', ''), errors='coerce')\r\n",
    "\r\n",
    "t[\"Cabin\"] = t[\"Cabin\"].fillna('-1')\r\n",
    "t['Age'] = t['Age'].fillna(t['Age'].mean())\r\n",
    "t['NotAlone'] = t.Parch + t.SibSp\r\n",
    "t.drop(['Parch', 'SibSp'], axis=1, inplace=True)\r\n",
    "cut_l = [-1, t.Fare.max()/4, t.Fare.max()/4*2,t.Fare.max()/4*3,np.inf]\r\n",
    "t['ti_pr'] = pd.cut(t['Fare'],  bins = cut_l, labels=[1,2,3,4])\r\n",
    "t.drop('Fare', axis=1, inplace=True)\r\n",
    "t_targ = g_s\r\n",
    "t_targ.drop('PassengerId', axis=1, inplace=True)\r\n"
   ],
   "outputs": [
    {
     "output_type": "stream",
     "name": "stderr",
     "text": [
      "<ipython-input-13-efc2dc7b303a>:5: FutureWarning: The default value of regex will change from True to False in a future version.\n",
      "  t['Cabin'] = pd.to_numeric(t['Cabin'].str.replace('\\D', ''), errors='coerce')\n"
     ]
    }
   ],
   "metadata": {}
  },
  {
   "cell_type": "code",
   "execution_count": 14,
   "source": [
    "X, y  = t, g_s\r\n"
   ],
   "outputs": [],
   "metadata": {}
  },
  {
   "cell_type": "code",
   "execution_count": 15,
   "source": [
    "X, y  = t, g_s\r\n",
    "\r\n",
    "clf.score(X,y)"
   ],
   "outputs": [
    {
     "output_type": "execute_result",
     "data": {
      "text/plain": [
       "0.8585131894484412"
      ]
     },
     "metadata": {},
     "execution_count": 15
    }
   ],
   "metadata": {}
  },
  {
   "cell_type": "code",
   "execution_count": null,
   "source": [],
   "outputs": [],
   "metadata": {}
  }
 ],
 "metadata": {
  "language_info": {
   "name": "python",
   "version": "3.8.10",
   "mimetype": "text/x-python",
   "codemirror_mode": {
    "name": "ipython",
    "version": 3
   },
   "pygments_lexer": "ipython3",
   "nbconvert_exporter": "python",
   "file_extension": ".py"
  },
  "kernelspec": {
   "name": "python3",
   "display_name": "Python 3.8.10 64-bit ('Test1': conda)"
  },
  "interpreter": {
   "hash": "ae22ff7b4990f16f2107899c7d411110cc54095c4c6bd2738b6d044e1b22e01d"
  }
 },
 "nbformat": 4,
 "nbformat_minor": 5
}