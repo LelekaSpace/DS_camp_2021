{
 "cells": [
  {
   "cell_type": "markdown",
   "source": [
    "<font color = green >\n",
    "\n",
    "# Decision Trees\n",
    "</font>"
   ],
   "metadata": {}
  },
  {
   "cell_type": "code",
   "execution_count": 1,
   "source": [
    "import matplotlib.pyplot as plt\r\n",
    "import numpy as np"
   ],
   "outputs": [],
   "metadata": {}
  },
  {
   "cell_type": "code",
   "execution_count": 2,
   "source": [
    "%matplotlib inline"
   ],
   "outputs": [],
   "metadata": {}
  },
  {
   "cell_type": "markdown",
   "source": [
    "<font color = green >\n",
    "\n",
    "## Iris dataset \n",
    "</font>"
   ],
   "metadata": {}
  },
  {
   "cell_type": "code",
   "execution_count": 3,
   "source": [
    "!pip install graphviz\r\n"
   ],
   "outputs": [
    {
     "output_type": "stream",
     "name": "stdout",
     "text": [
      "Requirement already satisfied: graphviz in c:\\users\\leleka\\.conda\\envs\\test1\\lib\\site-packages (0.17)\n"
     ]
    }
   ],
   "metadata": {}
  },
  {
   "cell_type": "code",
   "execution_count": 4,
   "source": [
    "from sklearn.datasets import load_iris\r\n",
    "from sklearn.tree import DecisionTreeClassifier\r\n",
    "from sklearn import tree\r\n",
    "import graphviz\r\n",
    "from sklearn.model_selection import train_test_split\r\n",
    "# Note: In case of RuntimeError \"Make sure the Graphviz executables are on your system's path” after installing Graphviz \r\n",
    "# helps on mac:  brew install graphviz\r\n",
    "# helps on windows:  import os\r\n",
    "# os.environ[\"PATH\"] += os.pathsep + r'C:\\Program Files (x86)\\Graphviz2.38\\bin'"
   ],
   "outputs": [],
   "metadata": {}
  },
  {
   "cell_type": "code",
   "execution_count": 5,
   "source": [
    "iris= load_iris()\r\n",
    "\r\n",
    "iris = load_iris()\r\n",
    "X, y, features, labels = iris.data, iris.target,iris.feature_names ,iris.target_names\r\n",
    "\r\n",
    "print ('X.shape= ', X.shape)\r\n",
    "print ('y.shape= ', y.shape)\r\n",
    "X_train, X_test, y_train, y_test = train_test_split(X,y, random_state = 3)\r\n",
    "print ('X_train.shape= ',X_train.shape)\r\n",
    "print ('X_test.shape= ',X_test.shape)\r\n",
    "print ('y_train.shape= ',y_train.shape)\r\n",
    "print ('y_test.shape= ',y_test.shape)\r\n",
    "print ('features:', features)\r\n",
    "dict_names = {i:v for i,v in enumerate(labels)}\r\n",
    "print ('target names :', dict_names)"
   ],
   "outputs": [
    {
     "output_type": "stream",
     "name": "stdout",
     "text": [
      "X.shape=  (150, 4)\n",
      "y.shape=  (150,)\n",
      "X_train.shape=  (112, 4)\n",
      "X_test.shape=  (38, 4)\n",
      "y_train.shape=  (112,)\n",
      "y_test.shape=  (38,)\n",
      "features: ['sepal length (cm)', 'sepal width (cm)', 'petal length (cm)', 'petal width (cm)']\n",
      "target names : {0: 'setosa', 1: 'versicolor', 2: 'virginica'}\n"
     ]
    }
   ],
   "metadata": {}
  },
  {
   "cell_type": "markdown",
   "source": [
    "<font color = green >\n",
    "\n",
    "## Learning the model\n",
    "</font>"
   ],
   "metadata": {}
  },
  {
   "cell_type": "code",
   "execution_count": 6,
   "source": [
    "max_depth = 3\r\n",
    "clf = DecisionTreeClassifier(\r\n",
    "    criterion=  'entropy',\r\n",
    "    random_state=20,        \r\n",
    "    max_depth=max_depth,    \r\n",
    "#     max_leaf_nodes=4,\r\n",
    ").fit(X_train, y_train)\r\n",
    "print(\"train accuracy= {:.3%}\".format(clf.score (X_train, y_train)))\r\n",
    "print(\"test accuracy= {:.3%}\".format(clf.score (X_test, y_test)))"
   ],
   "outputs": [
    {
     "output_type": "stream",
     "name": "stdout",
     "text": [
      "train accuracy= 98.214%\n",
      "test accuracy= 97.368%\n"
     ]
    }
   ],
   "metadata": {}
  },
  {
   "cell_type": "markdown",
   "source": [
    "<font color = green >\n",
    "\n",
    "## Vizualize the decision tree  graph \n",
    "</font>"
   ],
   "metadata": {}
  },
  {
   "cell_type": "code",
   "execution_count": 7,
   "source": [
    "# fn=  os.path.join(path , 'restricted_depth.gv')\r\n",
    "graph_viz = tree.export_graphviz(clf, out_file=None,feature_names=features, class_names=labels, filled = True)\r\n",
    "graph = graphviz.Source(graph_viz)\r\n",
    "graph.view(cleanup =True) # cleanup (bool) – Delete the source file after rendering."
   ],
   "outputs": [
    {
     "output_type": "execute_result",
     "data": {
      "text/plain": [
       "'Source.gv.pdf'"
      ]
     },
     "metadata": {},
     "execution_count": 7
    }
   ],
   "metadata": {}
  },
  {
   "cell_type": "markdown",
   "source": [
    "#### Should appear the followingf image in separate window \n",
    "\n",
    "<img src = \"decision_tree_graph.jpg\" height=500 width= 500 align=\"left\">\n",
    "\n",
    "<div style=\"clear:left;\"></div>\n",
    "<br><br><br><br><br><br><br><br>\n"
   ],
   "metadata": {}
  },
  {
   "cell_type": "markdown",
   "source": [
    "<font color = green >\n",
    "\n",
    "## Feature importance\n",
    "</font>"
   ],
   "metadata": {}
  },
  {
   "cell_type": "code",
   "execution_count": null,
   "source": [],
   "outputs": [],
   "metadata": {}
  },
  {
   "cell_type": "code",
   "execution_count": 8,
   "source": [
    "def plot_feature_importances(clf, features):\r\n",
    "    plt.figure(figsize=(6, 6), dpi=80)\r\n",
    "    c_features = len(features)\r\n",
    "    plt.barh(range(c_features), clf.feature_importances_)\r\n",
    "    plt.xlabel(\"Feature importance\")\r\n",
    "    plt.ylabel(\"Feature name\")\r\n",
    "    plt.yticks(np.arange(c_features), features)"
   ],
   "outputs": [],
   "metadata": {}
  },
  {
   "cell_type": "code",
   "execution_count": 9,
   "source": [
    "plot_feature_importances(clf, features)"
   ],
   "outputs": [
    {
     "output_type": "display_data",
     "data": {
      "text/plain": [
       "<Figure size 480x480 with 1 Axes>"
      ],
      "image/png": "[encoded data removed]"
     },
     "metadata": {
      "needs_background": "light"
     }
    }
   ],
   "metadata": {}
  },
  {
   "cell_type": "markdown",
   "source": [
    "<font color = green >\n",
    "\n",
    "## Auxiliary drawing functions \n",
    "</font>"
   ],
   "metadata": {}
  },
  {
   "cell_type": "code",
   "execution_count": 10,
   "source": [
    "def plot_decision_boundary(clf, X_train, y_train, X_test=None, y_test= None, title=None, precision=0.05,plot_symbol_size = 50, ax= None,  is_extended=True, title_size= None):\r\n",
    "\r\n",
    "    '''    \r\n",
    "    Draws the binary decision boundary for X that is nor required additional features and transformation (like polynomial)\r\n",
    "    '''\r\n",
    "    # Create color maps - required by pcolormesh\r\n",
    "    from matplotlib.colors import  ListedColormap\r\n",
    "    colors_for_points = np.array(['grey', 'orange']) # neg/pos\r\n",
    "    colors_for_areas = np.array(['grey', 'orange']) # neg/pos  # alpha is applied later \r\n",
    "    cmap_light = ListedColormap(colors_for_areas)\r\n",
    " \r\n",
    "   \r\n",
    "    mesh_step_size = precision #.01  # step size in the mesh\r\n",
    "    if X_test is None or y_test is None:\r\n",
    "        show_test= False\r\n",
    "        X= X_train\r\n",
    "    else:\r\n",
    "        show_test= True\r\n",
    "        X= np.concatenate([X_train,X_test], axis=0)\r\n",
    "    x1_min, x1_max = X[:, 0].min() - .1, X[:, 0].max() + 0.1\r\n",
    "    x2_min, x2_max = X[:, 1].min() - .1, X[:, 1].max() + 0.1\r\n",
    "    # Create grids of pairs\r\n",
    "    xx1, xx2 = np.meshgrid(np.arange(x1_min, x1_max, mesh_step_size),\r\n",
    "                         np.arange(x2_min, x2_max, mesh_step_size))\r\n",
    "    # Flatten all samples \r\n",
    "    target_samples_grid= (np.c_[xx1.ravel(), xx2.ravel()])\r\n",
    "\r\n",
    "    print ('Call prediction for all grid values (precision of drawing = {},\\n you may configure to speed up e.g. precision=0.05)'.format(precision))\r\n",
    "    Z = clf.predict(target_samples_grid)\r\n",
    "\r\n",
    "    # Reshape the result to original meshgrid shape \r\n",
    "    Z = Z.reshape(xx1.shape)\r\n",
    "    \r\n",
    "    if ax:\r\n",
    "        plt.sca(ax)\r\n",
    "    \r\n",
    "    # Plot all meshgrid prediction      \r\n",
    "    plt.pcolormesh(xx1, xx2,Z, cmap = cmap_light, alpha=0.2)\r\n",
    "\r\n",
    "    # Plot train set\r\n",
    "    plt.scatter(X_train[:, 0], X_train[:, 1], s=plot_symbol_size, \r\n",
    "                c=colors_for_points[y_train.ravel()], edgecolor = 'black',alpha=0.6)\r\n",
    "    # Plot test set\r\n",
    "    if show_test:\r\n",
    "        plt.scatter(X_test[:, 0], X_test[:, 1], marker='^', s=plot_symbol_size, \r\n",
    "                c=colors_for_points[y_test.ravel()],edgecolor = 'black',alpha=0.6)\r\n",
    "    if  is_extended:\r\n",
    "        # Create legend  \r\n",
    "        import matplotlib.patches as mpatches # use to assign lavels for colored points \r\n",
    "        patch0 = mpatches.Patch(color=colors_for_points[0], label='negative')\r\n",
    "        patch1 = mpatches.Patch(color=colors_for_points[1], label='positive')\r\n",
    "        plt.legend(handles=[patch0, patch1])\r\n",
    "    \r\n",
    "    fontdict={'fontsize': title_size} if title_size else None\r\n",
    "    \r\n",
    "    plt.title(title, fontdict)\r\n",
    "    if is_extended:\r\n",
    "        plt.xlabel('feature 1')\r\n",
    "        plt.ylabel('feature 2')\r\n",
    "    else:\r\n",
    "        plt.tick_params(\r\n",
    "        top =False,\r\n",
    "        bottom= False,\r\n",
    "        left  = False,\r\n",
    "        labelleft = False, \r\n",
    "        labelbottom = False\r\n",
    "        )\r\n",
    "\r\n",
    "        \r\n",
    "    \r\n",
    "def plot_data_logistic_regression(X,y,legend_loc= None, title= None):\r\n",
    "    '''\r\n",
    "    :param X: 2 dimensional ndarray\r\n",
    "    :param y:  1 dimensional ndarray. Use y.ravel() if necessary\r\n",
    "    :return:\r\n",
    "    '''\r\n",
    "\r\n",
    "    positive_indices = (y == 1)\r\n",
    "    negative_indices = (y == 0)\r\n",
    "#     import matplotlib as mpl\r\n",
    "    colors_for_points = ['grey', 'orange'] # neg/pos\r\n",
    "\r\n",
    "    plt.scatter(X[negative_indices][:,0], X[negative_indices][:,1], s=40, c=colors_for_points [0], edgecolor = 'black', label='negative', alpha = 0.7)\r\n",
    "    plt.scatter(X[positive_indices][:,0], X[positive_indices][:,1], s=40, c=colors_for_points [1], edgecolor = 'black',label='positive', alpha = 0.7)\r\n",
    "    plt.title(title)\r\n",
    "    plt.legend(loc= legend_loc)\r\n",
    "\r\n",
    "    \r\n",
    "def plot_multi_class_logistic_regression(X,y,dict_names=None, colors= None,  title =None):\r\n",
    "    '''\r\n",
    "    Draw the multi class samples of 2 features\r\n",
    "    :param X: X 2 ndarray (m,2),\r\n",
    "    :param y: vector (m,)\r\n",
    "    :param dict_names: dict of values of y and names\r\n",
    "    :return: None\r\n",
    "    '''\r\n",
    "    if not colors:\r\n",
    "        colors_for_points = ['green','grey', 'orange', 'brown']\r\n",
    "    else:\r\n",
    "         colors_for_points = colors\r\n",
    "\r\n",
    "    y_unique = list(set(y))\r\n",
    "\r\n",
    "    for i in range (len(y_unique)):\r\n",
    "        ind = y == y_unique[i] # vector\r\n",
    "\r\n",
    "        if dict_names:\r\n",
    "            plt.scatter(X[ind,0], X[ind,1], c=colors_for_points[i], s=40, label=dict_names[y_unique[i]],edgecolor='black', alpha=.7)\r\n",
    "        else:\r\n",
    "            plt.scatter(X[ind, 0], X[ind, 1], s=40, c=colors_for_points [i], edgecolor = 'black', alpha = 0.7)\r\n",
    "    if title:\r\n",
    "        plt.title(title)\r\n",
    "\r\n",
    "    if dict_names:\r\n",
    "        plt.legend(frameon=True)\r\n",
    "        \r\n"
   ],
   "outputs": [],
   "metadata": {}
  },
  {
   "cell_type": "markdown",
   "source": [
    "<font color = green >\n",
    "\n",
    "## Synthetic dataset\n",
    "</font>"
   ],
   "metadata": {}
  },
  {
   "cell_type": "code",
   "execution_count": 11,
   "source": [
    "from sklearn.datasets import make_blobs"
   ],
   "outputs": [],
   "metadata": {}
  },
  {
   "cell_type": "code",
   "execution_count": 12,
   "source": [
    "X_mk8, y_mk8 = make_blobs(n_samples = 200, n_features = 2, centers = 8, # centers impacts for y\r\n",
    "                       cluster_std = 1.3, random_state = 4)\r\n",
    "X_train = X_mk8\r\n",
    "y_train = y_mk8 % 2 # make it binary since make_blobs  with centers = 8 creates y in [0..7]\r\n",
    "plt.figure()\r\n",
    "plot_data_logistic_regression(X_mk8,y_train)\r\n"
   ],
   "outputs": [
    {
     "output_type": "display_data",
     "data": {
      "text/plain": [
       "<Figure size 432x288 with 1 Axes>"
      ],
      "image/png": "[encoded data removed]"
     },
     "metadata": {
      "needs_background": "light"
     }
    }
   ],
   "metadata": {}
  },
  {
   "cell_type": "code",
   "execution_count": 13,
   "source": [
    "plt.figure(figsize= (10,3))\r\n",
    "max_depths= [3,5,10]    \r\n",
    "\r\n",
    "for i, max_depth in enumerate(max_depths):\r\n",
    "    ax = plt.subplot(1,len(max_depths),i+1)\r\n",
    "    clf = DecisionTreeClassifier(\r\n",
    "        criterion=  'entropy',\r\n",
    "        random_state=20,        \r\n",
    "        max_depth=max_depth,    \r\n",
    "    #     max_leaf_nodes=4,\r\n",
    "    ).fit(X_train, y_train)\r\n",
    "    accuracy = clf.score (X_train, y_train)\r\n",
    "#     print(\"train accuracy= {:.3%}\".format(accuracy))\r\n",
    "    plot_decision_boundary(\r\n",
    "        clf,\r\n",
    "        X_train,\r\n",
    "        y_train,\r\n",
    "        precision= 0.05,\r\n",
    "        ax=ax,\r\n",
    "        title = 'max_depth={}. accuracy = {:.3%}'.format(max_depth, accuracy),\r\n",
    "        is_extended= False,\r\n",
    "        title_size= 11,)\r\n",
    "    \r\n",
    "plt.tight_layout (w_pad=-2)\r\n",
    "\r\n",
    "\r\n",
    "# max_depth=5    \r\n",
    "# clf = DecisionTreeClassifier(\r\n",
    "#     criterion=  'entropy',\r\n",
    "#     random_state=20,        \r\n",
    "#     max_depth=max_depth,    \r\n",
    "# #     max_leaf_nodes=4,\r\n",
    "# ).fit(X_train, y_train)\r\n",
    "# accuracy = clf.score (X_train, y_train)\r\n",
    "# print(\"train accuracy= {:.3%}\".format(accuracy))\r\n",
    "# plt.figure()\r\n",
    "\r\n",
    "# plot_decision_boundary(clf, X_train, y_train, precision= 0.05, title = 'max_depth={}. accuracy = {:.3%}'.format(max_depth, accuracy))\r\n"
   ],
   "outputs": [
    {
     "output_type": "stream",
     "name": "stdout",
     "text": [
      "Call prediction for all grid values (precision of drawing = 0.05,\n",
      " you may configure to speed up e.g. precision=0.05)\n",
      "Call prediction for all grid values (precision of drawing = 0.05,\n",
      " you may configure to speed up e.g. precision=0.05)\n",
      "Call prediction for all grid values (precision of drawing = 0.05,\n",
      " you may configure to speed up e.g. precision=0.05)\n"
     ]
    },
    {
     "output_type": "stream",
     "name": "stderr",
     "text": [
      "<ipython-input-10-a5e904ea0bc5>:38: MatplotlibDeprecationWarning: shading='flat' when X and Y have the same dimensions as C is deprecated since 3.3.  Either specify the corners of the quadrilaterals with X and Y, or pass shading='auto', 'nearest' or 'gouraud', or set rcParams['pcolor.shading'].  This will become an error two minor releases later.\n",
      "  plt.pcolormesh(xx1, xx2,Z, cmap = cmap_light, alpha=0.2)\n",
      "<ipython-input-10-a5e904ea0bc5>:38: MatplotlibDeprecationWarning: shading='flat' when X and Y have the same dimensions as C is deprecated since 3.3.  Either specify the corners of the quadrilaterals with X and Y, or pass shading='auto', 'nearest' or 'gouraud', or set rcParams['pcolor.shading'].  This will become an error two minor releases later.\n",
      "  plt.pcolormesh(xx1, xx2,Z, cmap = cmap_light, alpha=0.2)\n",
      "<ipython-input-10-a5e904ea0bc5>:38: MatplotlibDeprecationWarning: shading='flat' when X and Y have the same dimensions as C is deprecated since 3.3.  Either specify the corners of the quadrilaterals with X and Y, or pass shading='auto', 'nearest' or 'gouraud', or set rcParams['pcolor.shading'].  This will become an error two minor releases later.\n",
      "  plt.pcolormesh(xx1, xx2,Z, cmap = cmap_light, alpha=0.2)\n"
     ]
    },
    {
     "output_type": "display_data",
     "data": {
      "text/plain": [
       "<Figure size 720x216 with 3 Axes>"
      ],
      "image/png": "[encoded data removed]"
     },
     "metadata": {}
    }
   ],
   "metadata": {}
  },
  {
   "cell_type": "code",
   "execution_count": 14,
   "source": [
    "graph_viz = tree.export_graphviz(clf, out_file=None,filled = True)\r\n",
    "graph = graphviz.Source(graph_viz)\r\n",
    "graph.view(cleanup =True) # cleanup (bool) – Delete the source file after rendering."
   ],
   "outputs": [
    {
     "output_type": "execute_result",
     "data": {
      "text/plain": [
       "'Source.gv.pdf'"
      ]
     },
     "metadata": {},
     "execution_count": 14
    }
   ],
   "metadata": {}
  },
  {
   "cell_type": "markdown",
   "source": [
    "#### Should appear the followingf image in separate window \n",
    "\n",
    "<img src = \"decision_tree_graph2.jpg\" height=500 width= 500 align=\"left\">\n",
    "\n",
    "<div style=\"clear:left;\"></div>\n",
    "<br><br><br><br><br><br><br><br>\n"
   ],
   "metadata": {}
  },
  {
   "cell_type": "code",
   "execution_count": null,
   "source": [],
   "outputs": [],
   "metadata": {}
  },
  {
   "cell_type": "markdown",
   "source": [
    "<font color = green >\n",
    "\n",
    "## Tennis dataset\n",
    "\n",
    "</font>"
   ],
   "metadata": {}
  },
  {
   "cell_type": "code",
   "execution_count": 15,
   "source": [
    "import os\r\n",
    "import pandas as pd\r\n",
    "cwd= os.getcwd() # current working directory\r\n",
    "# path = os.path.join(cwd,'data')\r\n",
    "# fn=  os.path.join(path , 'tennis.csv')\r\n",
    "fn=  'tennis.csv'\r\n",
    "df = pd.read_csv(fn)\r\n",
    "del df['temp']\r\n",
    "print (df.head())\r\n",
    "\r\n",
    "X_train = df.iloc[:, :3].values\r\n",
    "y_train = df.iloc[:, 3].values\r\n",
    "print ('\\nX_train.shape= ',X_train.shape)\r\n",
    "print ('y_train.shape= ',y_train.shape)"
   ],
   "outputs": [
    {
     "output_type": "stream",
     "name": "stdout",
     "text": [
      "    outlook humidity   wind play\n",
      "0     sunny     high  False   no\n",
      "1     sunny     high   True   no\n",
      "2  overcast     high  False  yes\n",
      "3     rainy     high  False  yes\n",
      "4     rainy   normal  False  yes\n",
      "\n",
      "X_train.shape=  (14, 3)\n",
      "y_train.shape=  (14,)\n"
     ]
    }
   ],
   "metadata": {}
  },
  {
   "cell_type": "code",
   "execution_count": 16,
   "source": [
    "from sklearn.preprocessing  import LabelEncoder"
   ],
   "outputs": [],
   "metadata": {}
  },
  {
   "cell_type": "code",
   "execution_count": 17,
   "source": [
    "X_train_cat = X_train.copy()\r\n",
    "le = LabelEncoder()\r\n",
    "for i in range(X_train.shape[1]):\r\n",
    "    X_train_cat[:,i]= le.fit_transform(X_train[:,i])\r\n",
    "    le_dict = dict(zip(le.classes_, le.transform(le.classes_)))\r\n",
    "    print ('{}: {}'.format(list(df)[i], le_dict))\r\n",
    "y_train_cat= le.fit_transform(y_train)\r\n",
    "le_dict = dict(zip(le.classes_, le.transform(le.classes_)))\r\n",
    "print ('y: ', le_dict)\r\n",
    "print ('X_train_cat.shape= ',X_train_cat.shape)\r\n",
    "print ('y_train_cat.shape= ',y_train_cat.shape)\r\n",
    "X_train_cat"
   ],
   "outputs": [
    {
     "output_type": "stream",
     "name": "stdout",
     "text": [
      "outlook: {'overcast': 0, 'rainy': 1, 'sunny': 2}\n",
      "humidity: {'high': 0, 'normal': 1}\n",
      "wind: {False: 0, True: 1}\n",
      "y:  {'no': 0, 'yes': 1}\n",
      "X_train_cat.shape=  (14, 3)\n",
      "y_train_cat.shape=  (14,)\n"
     ]
    },
    {
     "output_type": "execute_result",
     "data": {
      "text/plain": [
       "array([[2, 0, 0],\n",
       "       [2, 0, 1],\n",
       "       [0, 0, 0],\n",
       "       [1, 0, 0],\n",
       "       [1, 1, 0],\n",
       "       [1, 1, 1],\n",
       "       [0, 1, 1],\n",
       "       [2, 0, 0],\n",
       "       [2, 1, 0],\n",
       "       [1, 1, 0],\n",
       "       [2, 1, 1],\n",
       "       [0, 0, 1],\n",
       "       [0, 1, 0],\n",
       "       [1, 0, 1]], dtype=object)"
      ]
     },
     "metadata": {},
     "execution_count": 17
    }
   ],
   "metadata": {}
  },
  {
   "cell_type": "code",
   "execution_count": 18,
   "source": [
    "max_depth = None\r\n",
    "clf = DecisionTreeClassifier(\r\n",
    "    criterion=  'entropy',\r\n",
    "    random_state=20,        \r\n",
    "    max_depth=max_depth,    \r\n",
    "#     max_leaf_nodes=4,\r\n",
    ").fit(X_train_cat, y_train_cat)\r\n",
    "features = list(df)[:3]\r\n",
    "labels = ['No','Yes']\r\n",
    "graph_viz = tree.export_graphviz(clf, out_file=None,feature_names=features, class_names=labels, filled = True)\r\n",
    "graph = graphviz.Source(graph_viz)\r\n",
    "graph.view(cleanup =True) # cleanup (bool) – Delete the source file after rendering."
   ],
   "outputs": [
    {
     "output_type": "execute_result",
     "data": {
      "text/plain": [
       "'Source.gv.pdf'"
      ]
     },
     "metadata": {},
     "execution_count": 18
    }
   ],
   "metadata": {}
  },
  {
   "cell_type": "markdown",
   "source": [
    "#### Should appear the followingf image in separate window \n",
    "\n",
    "<img src = \"decision_tree_graph3.jpg\" height=500 width= 500 align=\"left\">\n",
    "\n",
    "<div style=\"clear:left;\"></div>\n",
    "<br><br><br><br><br><br><br><br>\n"
   ],
   "metadata": {}
  },
  {
   "cell_type": "markdown",
   "source": [
    "<font color = green>\n",
    "\n",
    "#  Random Forests\n",
    "\n",
    "</font>\n",
    "\n"
   ],
   "metadata": {}
  },
  {
   "cell_type": "code",
   "execution_count": null,
   "source": [],
   "outputs": [],
   "metadata": {}
  },
  {
   "cell_type": "code",
   "execution_count": 19,
   "source": [
    "from sklearn.ensemble import RandomForestClassifier"
   ],
   "outputs": [],
   "metadata": {}
  },
  {
   "cell_type": "markdown",
   "source": [
    "<font color = green>\n",
    "\n",
    "## Iris dataset\n",
    "\n",
    "</font>\n",
    "\n"
   ],
   "metadata": {}
  },
  {
   "cell_type": "code",
   "execution_count": 20,
   "source": [
    "iris = load_iris()\r\n",
    "X, y, features, labels = iris.data, iris.target,iris.feature_names ,iris.target_names\r\n",
    "\r\n",
    "print ('X.shape= ', X.shape)\r\n",
    "print ('y.shape= ', y.shape)\r\n",
    "X_train, X_test, y_train, y_test = train_test_split(X,y, random_state = 3)\r\n",
    "print ('X_train.shape= ',X_train.shape)\r\n",
    "print ('X_test.shape= ',X_test.shape)\r\n",
    "print ('y_train.shape= ',y_train.shape)\r\n",
    "print ('y_test.shape= ',y_test.shape)\r\n",
    "print ('features:', features)\r\n",
    "dict_names = {i:v for i,v in enumerate(labels)}\r\n",
    "print ('target names :', dict_names)"
   ],
   "outputs": [
    {
     "output_type": "stream",
     "name": "stdout",
     "text": [
      "X.shape=  (150, 4)\n",
      "y.shape=  (150,)\n",
      "X_train.shape=  (112, 4)\n",
      "X_test.shape=  (38, 4)\n",
      "y_train.shape=  (112,)\n",
      "y_test.shape=  (38,)\n",
      "features: ['sepal length (cm)', 'sepal width (cm)', 'petal length (cm)', 'petal width (cm)']\n",
      "target names : {0: 'setosa', 1: 'versicolor', 2: 'virginica'}\n"
     ]
    }
   ],
   "metadata": {}
  },
  {
   "cell_type": "code",
   "execution_count": 21,
   "source": [
    "clf = RandomForestClassifier().fit (X_train, y_train)\r\n",
    "clf.score (X_train, y_train)\r\n",
    "n_estimators_list= [5,10,20]\r\n",
    "max_features_list= list(np.arange(1, X_train.shape[1]+1))\r\n",
    "\r\n",
    "for i in range (len(n_estimators_list)): \r\n",
    "    for j in range (len(max_features_list)):\r\n",
    "        index = len(max_features_list)*i+j           \r\n",
    "        clf = RandomForestClassifier(\r\n",
    "            random_state=10,\r\n",
    "            n_estimators= n_estimators_list[i],\r\n",
    "            max_features=max_features_list[j],        \r\n",
    "        ).fit(X_train, y_train)\r\n",
    "        accuracy_train = clf.score (X_train, y_train)\r\n",
    "        accuracy_test = clf.score (X_test, y_test)\r\n",
    "        print ('n_estimators= {}, max_features = {}, accuracy_train = {:.3%}, accuracy_test = {:.3%}'.format (\r\n",
    "            n_estimators_list[i],max_features_list[j], accuracy_train, accuracy_test))\r\n",
    "\r\n",
    "print ('Comparing  to desicion tree clf')\r\n",
    "max_depth = 3\r\n",
    "clf = DecisionTreeClassifier(\r\n",
    "    criterion=  'entropy',\r\n",
    "    random_state=20,        \r\n",
    "    max_depth=max_depth,    \r\n",
    "#     max_leaf_nodes=4,\r\n",
    ").fit(X_train, y_train)\r\n",
    "print(\"train accuracy= {:.3%}\".format(clf.score (X_train, y_train)))\r\n",
    "print(\"test accuracy= {:.3%}\".format(clf.score (X_test, y_test)))\r\n",
    "        "
   ],
   "outputs": [
    {
     "output_type": "stream",
     "name": "stdout",
     "text": [
      "n_estimators= 5, max_features = 1, accuracy_train = 98.214%, accuracy_test = 94.737%\n",
      "n_estimators= 5, max_features = 2, accuracy_train = 98.214%, accuracy_test = 94.737%\n",
      "n_estimators= 5, max_features = 3, accuracy_train = 98.214%, accuracy_test = 94.737%\n",
      "n_estimators= 5, max_features = 4, accuracy_train = 98.214%, accuracy_test = 94.737%\n",
      "n_estimators= 10, max_features = 1, accuracy_train = 100.000%, accuracy_test = 94.737%\n",
      "n_estimators= 10, max_features = 2, accuracy_train = 100.000%, accuracy_test = 97.368%\n",
      "n_estimators= 10, max_features = 3, accuracy_train = 100.000%, accuracy_test = 94.737%\n",
      "n_estimators= 10, max_features = 4, accuracy_train = 100.000%, accuracy_test = 94.737%\n",
      "n_estimators= 20, max_features = 1, accuracy_train = 100.000%, accuracy_test = 94.737%\n",
      "n_estimators= 20, max_features = 2, accuracy_train = 100.000%, accuracy_test = 97.368%\n",
      "n_estimators= 20, max_features = 3, accuracy_train = 100.000%, accuracy_test = 97.368%\n",
      "n_estimators= 20, max_features = 4, accuracy_train = 100.000%, accuracy_test = 97.368%\n",
      "Comparing  to desicion tree clf\n",
      "train accuracy= 98.214%\n",
      "test accuracy= 97.368%\n"
     ]
    }
   ],
   "metadata": {}
  },
  {
   "cell_type": "code",
   "execution_count": 22,
   "source": [
    "# Conclusion: this dataset is not good to demonstrate the power of random forest "
   ],
   "outputs": [],
   "metadata": {}
  },
  {
   "cell_type": "markdown",
   "source": [
    "<font color = green>\n",
    "\n",
    "## Mushrooms dataset\n",
    "\n",
    "</font>\n",
    "\n"
   ],
   "metadata": {}
  },
  {
   "cell_type": "code",
   "execution_count": 23,
   "source": [
    "import os\r\n",
    "import pandas as pd\r\n",
    "cwd= os.getcwd() # current working directory\r\n",
    "# path = os.path.join(cwd,'data')\r\n",
    "# fn=  os.path.join(path , 'mushrooms.csv')\r\n",
    "fn= 'mushrooms.csv'\r\n",
    "# https://www.kaggle.com/ymotonskillupai/mushroomscsv\r\n",
    "df = pd.read_csv(fn)\r\n",
    "\r\n",
    "print (list(df))\r\n",
    "X = df.iloc[:, 1:].values\r\n",
    "y = df.iloc[:, 1].values\r\n",
    "X_train, X_test, y_train, y_test = train_test_split(X, y, random_state = 0)\r\n",
    "print ('\\nX_train.shape= ',X_train.shape)\r\n",
    "print ('y_train.shape= ',y_train.shape)\r\n",
    "df.head()"
   ],
   "outputs": [
    {
     "output_type": "stream",
     "name": "stdout",
     "text": [
      "['class', 'cap-shape', 'cap-surface', 'cap-color', 'bruises', 'odor', 'gill-attachment', 'gill-spacing', 'gill-size', 'gill-color', 'stalk-shape', 'stalk-root', 'stalk-surface-above-ring', 'stalk-surface-below-ring', 'stalk-color-above-ring', 'stalk-color-below-ring', 'veil-type', 'veil-color', 'ring-number', 'ring-type', 'spore-print-color', 'population', 'habitat']\n",
      "\n",
      "X_train.shape=  (6093, 22)\n",
      "y_train.shape=  (6093,)\n"
     ]
    },
    {
     "output_type": "execute_result",
     "data": {
      "text/plain": [
       "  class cap-shape cap-surface cap-color bruises odor gill-attachment  \\\n",
       "0     p         x           s         n       t    p               f   \n",
       "1     e         x           s         y       t    a               f   \n",
       "2     e         b           s         w       t    l               f   \n",
       "3     p         x           y         w       t    p               f   \n",
       "4     e         x           s         g       f    n               f   \n",
       "\n",
       "  gill-spacing gill-size gill-color  ... stalk-surface-below-ring  \\\n",
       "0            c         n          k  ...                        s   \n",
       "1            c         b          k  ...                        s   \n",
       "2            c         b          n  ...                        s   \n",
       "3            c         n          n  ...                        s   \n",
       "4            w         b          k  ...                        s   \n",
       "\n",
       "  stalk-color-above-ring stalk-color-below-ring veil-type veil-color  \\\n",
       "0                      w                      w         p          w   \n",
       "1                      w                      w         p          w   \n",
       "2                      w                      w         p          w   \n",
       "3                      w                      w         p          w   \n",
       "4                      w                      w         p          w   \n",
       "\n",
       "  ring-number ring-type spore-print-color population habitat  \n",
       "0           o         p                 k          s       u  \n",
       "1           o         p                 n          n       g  \n",
       "2           o         p                 n          n       m  \n",
       "3           o         p                 k          s       u  \n",
       "4           o         e                 n          a       g  \n",
       "\n",
       "[5 rows x 23 columns]"
      ],
      "text/html": [
       "<div>\n",
       "<style scoped>\n",
       "    .dataframe tbody tr th:only-of-type {\n",
       "        vertical-align: middle;\n",
       "    }\n",
       "\n",
       "    .dataframe tbody tr th {\n",
       "        vertical-align: top;\n",
       "    }\n",
       "\n",
       "    .dataframe thead th {\n",
       "        text-align: right;\n",
       "    }\n",
       "</style>\n",
       "<table border=\"1\" class=\"dataframe\">\n",
       "  <thead>\n",
       "    <tr style=\"text-align: right;\">\n",
       "      <th></th>\n",
       "      <th>class</th>\n",
       "      <th>cap-shape</th>\n",
       "      <th>cap-surface</th>\n",
       "      <th>cap-color</th>\n",
       "      <th>bruises</th>\n",
       "      <th>odor</th>\n",
       "      <th>gill-attachment</th>\n",
       "      <th>gill-spacing</th>\n",
       "      <th>gill-size</th>\n",
       "      <th>gill-color</th>\n",
       "      <th>...</th>\n",
       "      <th>stalk-surface-below-ring</th>\n",
       "      <th>stalk-color-above-ring</th>\n",
       "      <th>stalk-color-below-ring</th>\n",
       "      <th>veil-type</th>\n",
       "      <th>veil-color</th>\n",
       "      <th>ring-number</th>\n",
       "      <th>ring-type</th>\n",
       "      <th>spore-print-color</th>\n",
       "      <th>population</th>\n",
       "      <th>habitat</th>\n",
       "    </tr>\n",
       "  </thead>\n",
       "  <tbody>\n",
       "    <tr>\n",
       "      <th>0</th>\n",
       "      <td>p</td>\n",
       "      <td>x</td>\n",
       "      <td>s</td>\n",
       "      <td>n</td>\n",
       "      <td>t</td>\n",
       "      <td>p</td>\n",
       "      <td>f</td>\n",
       "      <td>c</td>\n",
       "      <td>n</td>\n",
       "      <td>k</td>\n",
       "      <td>...</td>\n",
       "      <td>s</td>\n",
       "      <td>w</td>\n",
       "      <td>w</td>\n",
       "      <td>p</td>\n",
       "      <td>w</td>\n",
       "      <td>o</td>\n",
       "      <td>p</td>\n",
       "      <td>k</td>\n",
       "      <td>s</td>\n",
       "      <td>u</td>\n",
       "    </tr>\n",
       "    <tr>\n",
       "      <th>1</th>\n",
       "      <td>e</td>\n",
       "      <td>x</td>\n",
       "      <td>s</td>\n",
       "      <td>y</td>\n",
       "      <td>t</td>\n",
       "      <td>a</td>\n",
       "      <td>f</td>\n",
       "      <td>c</td>\n",
       "      <td>b</td>\n",
       "      <td>k</td>\n",
       "      <td>...</td>\n",
       "      <td>s</td>\n",
       "      <td>w</td>\n",
       "      <td>w</td>\n",
       "      <td>p</td>\n",
       "      <td>w</td>\n",
       "      <td>o</td>\n",
       "      <td>p</td>\n",
       "      <td>n</td>\n",
       "      <td>n</td>\n",
       "      <td>g</td>\n",
       "    </tr>\n",
       "    <tr>\n",
       "      <th>2</th>\n",
       "      <td>e</td>\n",
       "      <td>b</td>\n",
       "      <td>s</td>\n",
       "      <td>w</td>\n",
       "      <td>t</td>\n",
       "      <td>l</td>\n",
       "      <td>f</td>\n",
       "      <td>c</td>\n",
       "      <td>b</td>\n",
       "      <td>n</td>\n",
       "      <td>...</td>\n",
       "      <td>s</td>\n",
       "      <td>w</td>\n",
       "      <td>w</td>\n",
       "      <td>p</td>\n",
       "      <td>w</td>\n",
       "      <td>o</td>\n",
       "      <td>p</td>\n",
       "      <td>n</td>\n",
       "      <td>n</td>\n",
       "      <td>m</td>\n",
       "    </tr>\n",
       "    <tr>\n",
       "      <th>3</th>\n",
       "      <td>p</td>\n",
       "      <td>x</td>\n",
       "      <td>y</td>\n",
       "      <td>w</td>\n",
       "      <td>t</td>\n",
       "      <td>p</td>\n",
       "      <td>f</td>\n",
       "      <td>c</td>\n",
       "      <td>n</td>\n",
       "      <td>n</td>\n",
       "      <td>...</td>\n",
       "      <td>s</td>\n",
       "      <td>w</td>\n",
       "      <td>w</td>\n",
       "      <td>p</td>\n",
       "      <td>w</td>\n",
       "      <td>o</td>\n",
       "      <td>p</td>\n",
       "      <td>k</td>\n",
       "      <td>s</td>\n",
       "      <td>u</td>\n",
       "    </tr>\n",
       "    <tr>\n",
       "      <th>4</th>\n",
       "      <td>e</td>\n",
       "      <td>x</td>\n",
       "      <td>s</td>\n",
       "      <td>g</td>\n",
       "      <td>f</td>\n",
       "      <td>n</td>\n",
       "      <td>f</td>\n",
       "      <td>w</td>\n",
       "      <td>b</td>\n",
       "      <td>k</td>\n",
       "      <td>...</td>\n",
       "      <td>s</td>\n",
       "      <td>w</td>\n",
       "      <td>w</td>\n",
       "      <td>p</td>\n",
       "      <td>w</td>\n",
       "      <td>o</td>\n",
       "      <td>e</td>\n",
       "      <td>n</td>\n",
       "      <td>a</td>\n",
       "      <td>g</td>\n",
       "    </tr>\n",
       "  </tbody>\n",
       "</table>\n",
       "<p>5 rows × 23 columns</p>\n",
       "</div>"
      ]
     },
     "metadata": {},
     "execution_count": 23
    }
   ],
   "metadata": {}
  },
  {
   "cell_type": "code",
   "execution_count": 24,
   "source": [
    "X_train_cat = X_train.copy()\r\n",
    "X_test_cat = X_test.copy()\r\n",
    "le = LabelEncoder()\r\n",
    "for i in range(X_train.shape[1]):\r\n",
    "    X_train_cat[:,i]= le.fit_transform(X_train[:,i])\r\n",
    "    le_dict = dict(zip(le.classes_, le.transform(le.classes_)))\r\n",
    "    print (X_test[:,i])\r\n",
    "    X_test_cat[:,i] = le.transform(X_test[:,i])\r\n",
    "y_train_cat= le.fit_transform(y_train)\r\n",
    "le_dict = dict(zip(le.classes_, le.transform(le.classes_)))\r\n",
    "print ('y: ', le_dict)\r\n",
    "y_test_cat= le.transform(y_test)\r\n",
    "print ('X_train_cat.shape= ',X_train_cat.shape)\r\n",
    "print ('y_train_cat.shape= ',y_train_cat.shape)\r\n",
    "X_train_cat"
   ],
   "outputs": [
    {
     "output_type": "stream",
     "name": "stdout",
     "text": [
      "['x' 'f' 'x' ... 'x' 'x' 'k']\n",
      "['y' 'y' 'y' ... 'y' 's' 's']\n",
      "['n' 'g' 'y' ... 'e' 'y' 'n']\n",
      "['t' 't' 't' ... 'f' 't' 'f']\n",
      "['p' 'n' 'a' ... 's' 'l' 'n']\n",
      "['f' 'f' 'f' ... 'f' 'f' 'a']\n",
      "['c' 'c' 'c' ... 'c' 'c' 'c']\n",
      "['n' 'b' 'b' ... 'n' 'b' 'b']\n",
      "['p' 'p' 'k' ... 'b' 'k' 'y']\n",
      "['e' 't' 'e' ... 't' 'e' 'e']\n",
      "['e' 'b' 'c' ... '?' 'c' '?']\n",
      "['s' 's' 's' ... 's' 's' 's']\n",
      "['s' 's' 's' ... 'k' 's' 's']\n",
      "['w' 'g' 'w' ... 'p' 'w' 'o']\n",
      "['w' 'g' 'w' ... 'p' 'w' 'o']\n",
      "['p' 'p' 'p' ... 'p' 'p' 'p']\n",
      "['w' 'w' 'w' ... 'w' 'w' 'n']\n",
      "['o' 'o' 'o' ... 'o' 'o' 'o']\n",
      "['p' 'p' 'p' ... 'e' 'p' 'p']\n",
      "['k' 'k' 'n' ... 'w' 'k' 'b']\n",
      "['s' 'y' 'n' ... 'v' 's' 'c']\n",
      "['u' 'd' 'm' ... 'd' 'g' 'l']\n",
      "y:  {'b': 0, 'c': 1, 'f': 2, 'k': 3, 's': 4, 'x': 5}\n",
      "X_train_cat.shape=  (6093, 22)\n",
      "y_train_cat.shape=  (6093,)\n"
     ]
    },
    {
     "output_type": "execute_result",
     "data": {
      "text/plain": [
       "array([[2, 3, 9, ..., 1, 5, 1],\n",
       "       [5, 3, 4, ..., 3, 5, 1],\n",
       "       [2, 2, 3, ..., 2, 0, 1],\n",
       "       ...,\n",
       "       [5, 2, 3, ..., 3, 3, 1],\n",
       "       [2, 0, 4, ..., 3, 4, 0],\n",
       "       [5, 3, 3, ..., 3, 5, 0]], dtype=object)"
      ]
     },
     "metadata": {},
     "execution_count": 24
    }
   ],
   "metadata": {}
  },
  {
   "cell_type": "code",
   "execution_count": 25,
   "source": [
    "max_features_list = [20,12, 10,8,6,4,3,2,1]    \r\n",
    "for i, max_features in enumerate(max_features_list):\r\n",
    "    clf = RandomForestClassifier(\r\n",
    "        random_state=0,        \r\n",
    "        max_features= max_features,    \r\n",
    "    ).fit(X_train_cat, y_train_cat)\r\n",
    "    accuracy_train = clf.score(X_train_cat, y_train_cat)\r\n",
    "    accuracy_test = clf.score(X_test_cat, y_test_cat)\r\n",
    "    print ('max_features = {}:\\n\\t accuracy_train = {:.3%}\\n\\t accuracy_test = {:.3%}'.format (\r\n",
    "        max_features_list[i], accuracy_train, accuracy_test))"
   ],
   "outputs": [
    {
     "output_type": "stream",
     "name": "stdout",
     "text": [
      "max_features = 20:\n",
      "\t accuracy_train = 100.000%\n",
      "\t accuracy_test = 100.000%\n",
      "max_features = 12:\n",
      "\t accuracy_train = 100.000%\n",
      "\t accuracy_test = 100.000%\n",
      "max_features = 10:\n",
      "\t accuracy_train = 100.000%\n",
      "\t accuracy_test = 100.000%\n",
      "max_features = 8:\n",
      "\t accuracy_train = 100.000%\n",
      "\t accuracy_test = 100.000%\n",
      "max_features = 6:\n",
      "\t accuracy_train = 100.000%\n",
      "\t accuracy_test = 100.000%\n",
      "max_features = 4:\n",
      "\t accuracy_train = 100.000%\n",
      "\t accuracy_test = 99.951%\n",
      "max_features = 3:\n",
      "\t accuracy_train = 100.000%\n",
      "\t accuracy_test = 99.754%\n",
      "max_features = 2:\n",
      "\t accuracy_train = 100.000%\n",
      "\t accuracy_test = 99.606%\n",
      "max_features = 1:\n",
      "\t accuracy_train = 100.000%\n",
      "\t accuracy_test = 99.360%\n"
     ]
    }
   ],
   "metadata": {}
  },
  {
   "cell_type": "code",
   "execution_count": 26,
   "source": [
    "print ('Comparing  to desicion tree clf')\r\n",
    "max_depth = None\r\n",
    "clf = DecisionTreeClassifier(\r\n",
    "    criterion=  'entropy',\r\n",
    "    random_state=0,        \r\n",
    "    max_depth=max_depth,    \r\n",
    ").fit(X_train_cat, y_train_cat)\r\n",
    "print(\"train accuracy= {:.3%}\".format(clf.score (X_train_cat, y_train_cat)))\r\n",
    "print(\"test accuracy= {:.3%}\".format(clf.score (X_test_cat, y_test_cat)))        "
   ],
   "outputs": [
    {
     "output_type": "stream",
     "name": "stdout",
     "text": [
      "Comparing  to desicion tree clf\n",
      "train accuracy= 100.000%\n",
      "test accuracy= 100.000%\n"
     ]
    }
   ],
   "metadata": {}
  },
  {
   "cell_type": "code",
   "execution_count": 27,
   "source": [
    "# Conclusion: this dataset is also  not good to demonstrate the power of random forest :)"
   ],
   "outputs": [],
   "metadata": {}
  },
  {
   "cell_type": "markdown",
   "source": [
    "<font color = green >\n",
    "\n",
    "# Gradient boosting decision tree\n",
    "</font>"
   ],
   "metadata": {}
  },
  {
   "cell_type": "code",
   "execution_count": 28,
   "source": [
    "from sklearn.ensemble import GradientBoostingClassifier"
   ],
   "outputs": [],
   "metadata": {}
  },
  {
   "cell_type": "markdown",
   "source": [
    "<font color = green>\n",
    "\n",
    "## Fruits dataset 2D\n",
    "\n",
    "</font>\n",
    "\n"
   ],
   "metadata": {}
  },
  {
   "cell_type": "code",
   "execution_count": null,
   "source": [],
   "outputs": [],
   "metadata": {}
  },
  {
   "cell_type": "code",
   "execution_count": 29,
   "source": [
    "import os\r\n",
    "cwd= os.getcwd() \r\n",
    "path = os.path.join(cwd,'data')\r\n",
    "fn=  os.path.join(path , 'fruit_data_with_colors.txt')\r\n",
    "df_fruits = pd.read_table(fn)\r\n",
    "df_fruits.head(10)\r\n"
   ],
   "outputs": [
    {
     "output_type": "execute_result",
     "data": {
      "text/plain": [
       "   fruit_label fruit_name fruit_subtype  mass  width  height  color_score\n",
       "0            1      apple  granny_smith   192    8.4     7.3         0.55\n",
       "1            1      apple  granny_smith   180    8.0     6.8         0.59\n",
       "2            1      apple  granny_smith   176    7.4     7.2         0.60\n",
       "3            2   mandarin      mandarin    86    6.2     4.7         0.80\n",
       "4            2   mandarin      mandarin    84    6.0     4.6         0.79\n",
       "5            2   mandarin      mandarin    80    5.8     4.3         0.77\n",
       "6            2   mandarin      mandarin    80    5.9     4.3         0.81\n",
       "7            2   mandarin      mandarin    76    5.8     4.0         0.81\n",
       "8            1      apple      braeburn   178    7.1     7.8         0.92\n",
       "9            1      apple      braeburn   172    7.4     7.0         0.89"
      ],
      "text/html": [
       "<div>\n",
       "<style scoped>\n",
       "    .dataframe tbody tr th:only-of-type {\n",
       "        vertical-align: middle;\n",
       "    }\n",
       "\n",
       "    .dataframe tbody tr th {\n",
       "        vertical-align: top;\n",
       "    }\n",
       "\n",
       "    .dataframe thead th {\n",
       "        text-align: right;\n",
       "    }\n",
       "</style>\n",
       "<table border=\"1\" class=\"dataframe\">\n",
       "  <thead>\n",
       "    <tr style=\"text-align: right;\">\n",
       "      <th></th>\n",
       "      <th>fruit_label</th>\n",
       "      <th>fruit_name</th>\n",
       "      <th>fruit_subtype</th>\n",
       "      <th>mass</th>\n",
       "      <th>width</th>\n",
       "      <th>height</th>\n",
       "      <th>color_score</th>\n",
       "    </tr>\n",
       "  </thead>\n",
       "  <tbody>\n",
       "    <tr>\n",
       "      <th>0</th>\n",
       "      <td>1</td>\n",
       "      <td>apple</td>\n",
       "      <td>granny_smith</td>\n",
       "      <td>192</td>\n",
       "      <td>8.4</td>\n",
       "      <td>7.3</td>\n",
       "      <td>0.55</td>\n",
       "    </tr>\n",
       "    <tr>\n",
       "      <th>1</th>\n",
       "      <td>1</td>\n",
       "      <td>apple</td>\n",
       "      <td>granny_smith</td>\n",
       "      <td>180</td>\n",
       "      <td>8.0</td>\n",
       "      <td>6.8</td>\n",
       "      <td>0.59</td>\n",
       "    </tr>\n",
       "    <tr>\n",
       "      <th>2</th>\n",
       "      <td>1</td>\n",
       "      <td>apple</td>\n",
       "      <td>granny_smith</td>\n",
       "      <td>176</td>\n",
       "      <td>7.4</td>\n",
       "      <td>7.2</td>\n",
       "      <td>0.60</td>\n",
       "    </tr>\n",
       "    <tr>\n",
       "      <th>3</th>\n",
       "      <td>2</td>\n",
       "      <td>mandarin</td>\n",
       "      <td>mandarin</td>\n",
       "      <td>86</td>\n",
       "      <td>6.2</td>\n",
       "      <td>4.7</td>\n",
       "      <td>0.80</td>\n",
       "    </tr>\n",
       "    <tr>\n",
       "      <th>4</th>\n",
       "      <td>2</td>\n",
       "      <td>mandarin</td>\n",
       "      <td>mandarin</td>\n",
       "      <td>84</td>\n",
       "      <td>6.0</td>\n",
       "      <td>4.6</td>\n",
       "      <td>0.79</td>\n",
       "    </tr>\n",
       "    <tr>\n",
       "      <th>5</th>\n",
       "      <td>2</td>\n",
       "      <td>mandarin</td>\n",
       "      <td>mandarin</td>\n",
       "      <td>80</td>\n",
       "      <td>5.8</td>\n",
       "      <td>4.3</td>\n",
       "      <td>0.77</td>\n",
       "    </tr>\n",
       "    <tr>\n",
       "      <th>6</th>\n",
       "      <td>2</td>\n",
       "      <td>mandarin</td>\n",
       "      <td>mandarin</td>\n",
       "      <td>80</td>\n",
       "      <td>5.9</td>\n",
       "      <td>4.3</td>\n",
       "      <td>0.81</td>\n",
       "    </tr>\n",
       "    <tr>\n",
       "      <th>7</th>\n",
       "      <td>2</td>\n",
       "      <td>mandarin</td>\n",
       "      <td>mandarin</td>\n",
       "      <td>76</td>\n",
       "      <td>5.8</td>\n",
       "      <td>4.0</td>\n",
       "      <td>0.81</td>\n",
       "    </tr>\n",
       "    <tr>\n",
       "      <th>8</th>\n",
       "      <td>1</td>\n",
       "      <td>apple</td>\n",
       "      <td>braeburn</td>\n",
       "      <td>178</td>\n",
       "      <td>7.1</td>\n",
       "      <td>7.8</td>\n",
       "      <td>0.92</td>\n",
       "    </tr>\n",
       "    <tr>\n",
       "      <th>9</th>\n",
       "      <td>1</td>\n",
       "      <td>apple</td>\n",
       "      <td>braeburn</td>\n",
       "      <td>172</td>\n",
       "      <td>7.4</td>\n",
       "      <td>7.0</td>\n",
       "      <td>0.89</td>\n",
       "    </tr>\n",
       "  </tbody>\n",
       "</table>\n",
       "</div>"
      ]
     },
     "metadata": {},
     "execution_count": 29
    }
   ],
   "metadata": {}
  },
  {
   "cell_type": "code",
   "execution_count": null,
   "source": [],
   "outputs": [],
   "metadata": {}
  },
  {
   "cell_type": "code",
   "execution_count": null,
   "source": [],
   "outputs": [],
   "metadata": {}
  },
  {
   "cell_type": "code",
   "execution_count": 30,
   "source": [
    "def plot_decision_boundary_universal(clf, X_train, y_train, X_test=None, y_test= None, title=None, precision=0.1,plot_symbol_size = 50, ax= None,  is_extended=True, labels= None, features =None):\r\n",
    "    '''\r\n",
    "    expected to be universal for binary and multiclass classification but not tested for binary \r\n",
    "    '''\r\n",
    "    # Create color maps - required by pcolormesh\r\n",
    "    from matplotlib.colors import  ListedColormap\r\n",
    "    colors_for_areas= colors_for_points =  np.array(['green','grey', 'orange', 'brown'])\r\n",
    "    cmap_light = ListedColormap(colors_for_areas)\r\n",
    "\r\n",
    "    mesh_step_size = precision #.01  # step size in the mesh\r\n",
    "    if X_test is None or y_test is None:\r\n",
    "        show_test= False\r\n",
    "        X= X_train\r\n",
    "    else:\r\n",
    "        show_test= True\r\n",
    "        X= np.concatenate([X_train,X_test], axis=0)\r\n",
    "    x1_min, x1_max = X[:, 0].min() - .1, X[:, 0].max() + 0.1\r\n",
    "    x2_min, x2_max = X[:, 1].min() - .1, X[:, 1].max() + 0.1\r\n",
    "    # Create grids of pairs\r\n",
    "    xx1, xx2 = np.meshgrid(np.arange(x1_min, x1_max, mesh_step_size),\r\n",
    "                         np.arange(x2_min, x2_max, mesh_step_size))\r\n",
    "    # Flatten all samples\r\n",
    "    target_samples_grid= (np.c_[xx1.ravel(), xx2.ravel()])\r\n",
    "    if precision<0.05:\r\n",
    "        print ('Calling to predict for all grid values (precision of drawing = {},\\n you may configure to speed up e.g. precision=0.05)'.format(precision))\r\n",
    "    Z = clf.predict(target_samples_grid)\r\n",
    "\r\n",
    "    # Reshape the result to original meshgrid shape\r\n",
    "    Z = Z.reshape(xx1.shape)\r\n",
    "\r\n",
    "    if ax:\r\n",
    "        plt.sca(ax)\r\n",
    "\r\n",
    "    # Plot all meshgrid prediction\r\n",
    "    plt.pcolormesh(xx1, xx2,Z, cmap = cmap_light, alpha=0.2)\r\n",
    "\r\n",
    "    # Plot train set\r\n",
    "    plt.scatter(X_train[:, 0], X_train[:, 1], s=plot_symbol_size,\r\n",
    "                c=colors_for_points[y_train.ravel()], edgecolor = 'black',alpha=0.6)\r\n",
    "    # Plot test set\r\n",
    "    if show_test:\r\n",
    "        plt.scatter(X_test[:, 0], X_test[:, 1], marker='^', s=plot_symbol_size,\r\n",
    "                c=colors_for_points[y_test.ravel()],edgecolor = 'black',alpha=0.6)\r\n",
    "    if  is_extended:\r\n",
    "        \r\n",
    "        # Create legend\r\n",
    "        if labels is None:\r\n",
    "            labels= ['negative','positive'] # assume this is for binary or for muticlass with labels \r\n",
    "        import matplotlib.patches as mpatches # use to assign lavels for colored points\r\n",
    "        patches= [mpatches.Patch(color=colors_for_points[i], label=labels[i]) for i in range (len(labels))]\r\n",
    "        plt.legend(handles=patches)\r\n",
    "        if features is None:\r\n",
    "            plt.xlabel('feature 1')\r\n",
    "            plt.ylabel('feature 2')\r\n",
    "        else: \r\n",
    "            plt.xlabel(features[0])\r\n",
    "            plt.ylabel(features[1])\r\n",
    "\r\n",
    "    else:\r\n",
    "        plt.tick_params(\r\n",
    "        top =False,\r\n",
    "        bottom= False,\r\n",
    "        left  = False,\r\n",
    "        labelleft = False,\r\n",
    "        labelbottom = False\r\n",
    "        )\r\n",
    "    plt.title(title)\r\n"
   ],
   "outputs": [],
   "metadata": {}
  },
  {
   "cell_type": "code",
   "execution_count": 31,
   "source": [
    "features = ['width', 'height']\r\n",
    "X = df_fruits[features].values\r\n",
    "y = df_fruits['fruit_label'].values -1  # shift due to labels of fruits are from 1 \r\n",
    "\r\n",
    "df_fruits.head(20)\r\n",
    "# labels =  df_fruits['fruit_name'].unique()\r\n",
    "fruits_dict = dict(zip(np.unique(y), df_fruits['fruit_name'].unique()))\r\n",
    "\r\n",
    "X_train, X_test, y_train, y_test = train_test_split(X,y, random_state = 3)\r\n",
    "print ('X_train.shape= ',X_train.shape)\r\n",
    "print ('X_test.shape= ',X_test.shape)\r\n",
    "print ('y_train.shape= ',y_train.shape)\r\n",
    "print ('y_test.shape= ',y_test.shape)\r\n",
    "\r\n",
    "print ('target names :', fruits_dict)\r\n",
    "\r\n",
    "plt.figure()\r\n",
    "plot_multi_class_logistic_regression (X,y,dict_names=fruits_dict)\r\n"
   ],
   "outputs": [
    {
     "output_type": "stream",
     "name": "stdout",
     "text": [
      "X_train.shape=  (44, 2)\n",
      "X_test.shape=  (15, 2)\n",
      "y_train.shape=  (44,)\n",
      "y_test.shape=  (15,)\n",
      "target names : {0: 'apple', 1: 'mandarin', 2: 'orange', 3: 'lemon'}\n"
     ]
    },
    {
     "output_type": "display_data",
     "data": {
      "text/plain": [
       "<Figure size 432x288 with 1 Axes>"
      ],
      "image/png": "[encoded data removed]"
     },
     "metadata": {
      "needs_background": "light"
     }
    }
   ],
   "metadata": {}
  },
  {
   "cell_type": "code",
   "execution_count": 32,
   "source": [
    "plt.figure ()\r\n",
    "labels =list(fruits_dict.values())\r\n",
    "\r\n",
    "clf = GradientBoostingClassifier(learning_rate=0.01,max_depth=3).fit(X_train, y_train)\r\n",
    "print(\"train accuracy= {:.3%}\".format(clf.score (X_train, y_train)))\r\n",
    "print(\"test accuracy= {:.3%}\".format(clf.score (X_test, y_test)))\r\n",
    "plot_decision_boundary_universal(clf, X_train, y_train, X_test, y_test, title='GradientBoostingClassifier', precision=0.05, labels= labels, features = features)\r\n"
   ],
   "outputs": [
    {
     "output_type": "stream",
     "name": "stdout",
     "text": [
      "train accuracy= 95.455%\n",
      "test accuracy= 80.000%\n"
     ]
    },
    {
     "output_type": "stream",
     "name": "stderr",
     "text": [
      "<ipython-input-30-6d4bced4a4fe>:35: MatplotlibDeprecationWarning: shading='flat' when X and Y have the same dimensions as C is deprecated since 3.3.  Either specify the corners of the quadrilaterals with X and Y, or pass shading='auto', 'nearest' or 'gouraud', or set rcParams['pcolor.shading'].  This will become an error two minor releases later.\n",
      "  plt.pcolormesh(xx1, xx2,Z, cmap = cmap_light, alpha=0.2)\n"
     ]
    },
    {
     "output_type": "display_data",
     "data": {
      "text/plain": [
       "<Figure size 432x288 with 1 Axes>"
      ],
      "image/png": "[encoded data removed]"
     },
     "metadata": {
      "needs_background": "light"
     }
    }
   ],
   "metadata": {
    "scrolled": true
   }
  },
  {
   "cell_type": "markdown",
   "source": [
    "---"
   ],
   "metadata": {}
  },
  {
   "cell_type": "markdown",
   "source": [
    "<font color = green>\n",
    "\n",
    "##  XGBoost\n",
    "</font>\n",
    "\n"
   ],
   "metadata": {}
  },
  {
   "cell_type": "code",
   "execution_count": 33,
   "source": [
    "from xgboost import XGBClassifier\r\n",
    "\r\n",
    "clf_xgboost = XGBClassifier(use_label_encoder=False, eval_metric= 'logloss')\r\n",
    "clf_xgboost.fit(X_train, y_train)\r\n",
    "print('\\nAccuracy of Logistic regression classifier on training set: {:.2f}'\r\n",
    "     .format(clf_xgboost.score(X_train, y_train)))\r\n",
    "print('Accuracy of Logistic regression classifier on test set: {:.2f}'\r\n",
    "     .format(clf_xgboost.score(X_test, y_test)))\r\n",
    "\r\n"
   ],
   "outputs": [
    {
     "output_type": "stream",
     "name": "stdout",
     "text": [
      "\n",
      "Accuracy of Logistic regression classifier on training set: 0.98\n",
      "Accuracy of Logistic regression classifier on test set: 0.67\n"
     ]
    }
   ],
   "metadata": {
    "scrolled": true
   }
  },
  {
   "cell_type": "code",
   "execution_count": 34,
   "source": [
    "X_mk8, y_mk8 = make_blobs(n_samples = 2000, n_features = 2, centers = 16, # centers impacts for y\r\n",
    "                       cluster_std = 1.3, random_state = 4)\r\n",
    "X = X_mk8\r\n",
    "y = y_mk8 % 2 # make it binary since make_blobs  with centers = 8 creates y in [0..7]\r\n",
    "\r\n",
    "X_train, X_test, y_train, y_test = train_test_split(X, y, random_state = 0)\r\n",
    "plt.figure()\r\n",
    "plot_data_logistic_regression(X_train,y_train)\r\n",
    "\r\n"
   ],
   "outputs": [
    {
     "output_type": "display_data",
     "data": {
      "text/plain": [
       "<Figure size 432x288 with 1 Axes>"
      ],
      "image/png": "[encoded data removed]"
     },
     "metadata": {
      "needs_background": "light"
     }
    }
   ],
   "metadata": {}
  },
  {
   "cell_type": "code",
   "execution_count": 35,
   "source": [
    "print ('\\n','='*20, '\\nDecisionTreeClassifier')\r\n",
    "clf = DecisionTreeClassifier(\r\n",
    "    criterion=  'entropy',\r\n",
    "    random_state=0,        \r\n",
    "    max_depth=max_depth,    \r\n",
    ").fit(X_train, y_train)\r\n",
    "print(\"train accuracy= {:.3%}\".format(clf.score (X_train, y_train)))\r\n",
    "print(\"test accuracy= {:.3%}\".format(clf.score (X_test, y_test)))\r\n",
    "\r\n",
    "print ('\\n','='*20, '\\nRandomForestClassifier')\r\n",
    "clf = RandomForestClassifier(\r\n",
    "    random_state=10,\r\n",
    "    n_estimators=10,\r\n",
    "    max_features=2,\r\n",
    ").fit(X_train, y_train)\r\n",
    "print(\"train accuracy= {:.3%}\".format(clf.score (X_train, y_train)))\r\n",
    "print(\"test accuracy= {:.3%}\".format(clf.score (X_test, y_test)))\r\n",
    "\r\n",
    "print ('\\n','='*20, '\\nGradientBoostingClassifier')\r\n",
    "clf = GradientBoostingClassifier(\r\n",
    "    learning_rate=0.01,\r\n",
    "    max_depth=3\r\n",
    ").fit(X_train, y_train)\r\n",
    "print(\"train accuracy= {:.3%}\".format(clf.score (X_train, y_train)))\r\n",
    "print(\"test accuracy= {:.3%}\".format(clf.score (X_test, y_test)))\r\n",
    "\r\n",
    "print ('\\n','='*20, '\\nXGBClassifier')\r\n",
    "clf = XGBClassifier(use_label_encoder=False, eval_metric= 'logloss')\r\n",
    "clf.fit(X_train, y_train)\r\n",
    "print(\"train accuracy= {:.3%}\".format(clf.score (X_train, y_train)))\r\n",
    "print(\"test accuracy= {:.3%}\".format(clf.score (X_test, y_test)))\r\n"
   ],
   "outputs": [
    {
     "output_type": "stream",
     "name": "stdout",
     "text": [
      "\n",
      " ==================== \n",
      "DecisionTreeClassifier\n",
      "train accuracy= 100.000%\n",
      "test accuracy= 81.600%\n",
      "\n",
      " ==================== \n",
      "RandomForestClassifier\n",
      "train accuracy= 98.800%\n",
      "test accuracy= 82.000%\n",
      "\n",
      " ==================== \n",
      "GradientBoostingClassifier\n",
      "train accuracy= 87.467%\n",
      "test accuracy= 83.200%\n",
      "\n",
      " ==================== \n",
      "XGBClassifier\n",
      "train accuracy= 98.733%\n",
      "test accuracy= 84.000%\n"
     ]
    }
   ],
   "metadata": {}
  },
  {
   "cell_type": "markdown",
   "source": [
    "<font color = green >\n",
    "    \n",
    "# Home Task \n",
    "\n",
    "</font>\n",
    "\n"
   ],
   "metadata": {}
  },
  {
   "cell_type": "markdown",
   "source": [
    "<font color = green>\n",
    "\n",
    "##  Brest cancer  dataset\n",
    "</font>\n",
    "\n"
   ],
   "metadata": {}
  },
  {
   "cell_type": "code",
   "execution_count": 36,
   "source": [
    "from sklearn.datasets import load_breast_cancer\r\n",
    "cancer = load_breast_cancer()\r\n",
    "X, y, labels, features = cancer.data, cancer.target, cancer.target_names, cancer.feature_names\r\n",
    "print ('labels:',labels)\r\n",
    "print ('features:', features)\r\n",
    "\r\n",
    "X_train, X_test, y_train, y_test = train_test_split(X, y, random_state = 0)"
   ],
   "outputs": [
    {
     "output_type": "stream",
     "name": "stdout",
     "text": [
      "labels: ['malignant' 'benign']\n",
      "features: ['mean radius' 'mean texture' 'mean perimeter' 'mean area'\n",
      " 'mean smoothness' 'mean compactness' 'mean concavity'\n",
      " 'mean concave points' 'mean symmetry' 'mean fractal dimension'\n",
      " 'radius error' 'texture error' 'perimeter error' 'area error'\n",
      " 'smoothness error' 'compactness error' 'concavity error'\n",
      " 'concave points error' 'symmetry error' 'fractal dimension error'\n",
      " 'worst radius' 'worst texture' 'worst perimeter' 'worst area'\n",
      " 'worst smoothness' 'worst compactness' 'worst concavity'\n",
      " 'worst concave points' 'worst symmetry' 'worst fractal dimension']\n"
     ]
    }
   ],
   "metadata": {}
  },
  {
   "cell_type": "markdown",
   "source": [
    "<font color = green>\n",
    "\n",
    "##  DecisionTree \n",
    "\n",
    "</font>\n",
    "\n"
   ],
   "metadata": {}
  },
  {
   "cell_type": "code",
   "execution_count": 37,
   "source": [
    "# YOUR_CODE.  create the classifier and train it \r\n",
    "# START_CODE \r\n",
    "\r\n",
    "from sklearn.tree import DecisionTreeClassifier\r\n",
    "from sklearn import tree\r\n",
    "import graphviz\r\n",
    "from sklearn.model_selection import train_test_split\r\n",
    "\r\n",
    "X_train, X_test, y_train, y_test = train_test_split(X,y, random_state = 0)\r\n",
    "\r\n",
    "clf = DecisionTreeClassifier(criterion= 'entropy',\r\n",
    "                            random_state = 0, \r\n",
    "                            max_depth = max_depth\r\n",
    "                            ).fit(X_train, y_train)\r\n",
    "# END_CODE \r\n",
    "\r\n",
    "print(\"train accuracy= {:.3%}\".format(clf.score (X_train, y_train)))\r\n",
    "print(\"test accuracy= {:.3%}\".format(clf.score (X_test, y_test)))\r\n",
    "graph_viz = tree.export_graphviz(clf, out_file=None,feature_names=features, class_names=labels, filled = True)\r\n",
    "graph = graphviz.Source(graph_viz)\r\n",
    "graph.view(cleanup =True) # cleanup (bool) – Delete the source file after rendering."
   ],
   "outputs": [
    {
     "output_type": "stream",
     "name": "stdout",
     "text": [
      "train accuracy= 100.000%\n",
      "test accuracy= 95.804%\n"
     ]
    },
    {
     "output_type": "execute_result",
     "data": {
      "text/plain": [
       "'Source.gv.pdf'"
      ]
     },
     "metadata": {},
     "execution_count": 37
    }
   ],
   "metadata": {}
  },
  {
   "cell_type": "markdown",
   "source": [
    "<font color = green>\n",
    "\n",
    "##  RandomForest\n",
    "\n",
    "</font>\n",
    "\n"
   ],
   "metadata": {}
  },
  {
   "cell_type": "code",
   "execution_count": 38,
   "source": [
    "# YOUR_CODE.  create the classifier and train it \r\n",
    "# START_CODE \r\n",
    "\r\n",
    "from sklearn.ensemble import RandomForestClassifier\r\n",
    "\r\n",
    "X_train, X_test, y_train, y_test = train_test_split(X,y, random_state = 20)\r\n",
    "\r\n",
    "\r\n",
    "clf = RandomForestClassifier(random_state = 20,\r\n",
    "                            n_estimators = 5,\r\n",
    "                            max_features = 3\r\n",
    "                            ).fit(X_train, y_train)\r\n",
    "# END_CODE \r\n",
    "\r\n",
    "print(\"train accuracy= {:.3%}\".format(clf.score (X_train, y_train)))\r\n",
    "print(\"test accuracy= {:.3%}\".format(clf.score (X_test, y_test)))"
   ],
   "outputs": [
    {
     "output_type": "stream",
     "name": "stdout",
     "text": [
      "train accuracy= 98.826%\n",
      "test accuracy= 97.203%\n"
     ]
    }
   ],
   "metadata": {}
  },
  {
   "cell_type": "markdown",
   "source": [
    "<font color = green>\n",
    "\n",
    "##  Gradient Boosting Decision Trees (GBDT)\n",
    "\n",
    "</font>\n",
    "\n"
   ],
   "metadata": {}
  },
  {
   "cell_type": "code",
   "execution_count": 39,
   "source": [
    "# YOUR_CODE.  create the classifier and train it \r\n",
    "# START_CODE \r\n",
    "\r\n",
    "from sklearn.ensemble import GradientBoostingClassifier\r\n",
    "\r\n",
    "X_train, X_test, y_train, y_test = train_test_split(X,y, random_state = 0)\r\n",
    "\r\n",
    "\r\n",
    "clf = GradientBoostingClassifier(learning_rate=2.11,\r\n",
    "                                max_depth = 3,\r\n",
    "                                 random_state = 0\r\n",
    "                                ).fit(X_train,y_train)\r\n",
    "# END_CODE \r\n",
    "\r\n",
    "print(\"train accuracy= {:.3%}\".format(clf.score (X_train, y_train)))\r\n",
    "print(\"test accuracy= {:.3%}\".format(clf.score (X_test, y_test)))"
   ],
   "outputs": [
    {
     "output_type": "stream",
     "name": "stdout",
     "text": [
      "train accuracy= 100.000%\n",
      "test accuracy= 97.203%\n"
     ]
    }
   ],
   "metadata": {}
  },
  {
   "cell_type": "markdown",
   "source": [
    "<font color = green>\n",
    "\n",
    "##  XGBoost\n",
    "\n",
    "</font>\n",
    "\n"
   ],
   "metadata": {}
  },
  {
   "cell_type": "code",
   "execution_count": 40,
   "source": [
    "# YOUR_CODE.  create the classifier and train it \r\n",
    "# START_CODE \r\n",
    "\r\n",
    "from xgboost import XGBClassifier\r\n",
    "clf_xgboost = XGBClassifier(use_label_encoder=False, eval_metric= 'logloss')\r\n",
    "\r\n",
    "\r\n",
    "clf = clf_xgboost.fit(X_train, y_train)\r\n",
    "\r\n",
    "# END_CODE \r\n",
    "\r\n",
    "print(\"train accuracy= {:.3%}\".format(clf.score (X_train, y_train)))\r\n",
    "print(\"test accuracy= {:.3%}\".format(clf.score (X_test, y_test)))"
   ],
   "outputs": [
    {
     "output_type": "stream",
     "name": "stdout",
     "text": [
      "train accuracy= 100.000%\n",
      "test accuracy= 98.601%\n"
     ]
    }
   ],
   "metadata": {}
  },
  {
   "cell_type": "code",
   "execution_count": null,
   "source": [],
   "outputs": [],
   "metadata": {}
  }
 ],
 "metadata": {
  "kernelspec": {
   "name": "python3",
   "display_name": "Python 3.8.10 64-bit ('Test1': conda)"
  },
  "language_info": {
   "codemirror_mode": {
    "name": "ipython",
    "version": 3
   },
   "file_extension": ".py",
   "mimetype": "text/x-python",
   "name": "python",
   "nbconvert_exporter": "python",
   "pygments_lexer": "ipython3",
   "version": "3.8.10"
  },
  "interpreter": {
   "hash": "ae22ff7b4990f16f2107899c7d411110cc54095c4c6bd2738b6d044e1b22e01d"
  }
 },
 "nbformat": 4,
 "nbformat_minor": 4
}