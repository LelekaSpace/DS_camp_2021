{
 "cells": [
  {
   "cell_type": "markdown",
   "source": [
    "# Spacy"
   ],
   "metadata": {}
  },
  {
   "cell_type": "markdown",
   "source": [
    "# Home task"
   ],
   "metadata": {}
  },
  {
   "cell_type": "markdown",
   "source": [
    "1. Using a Spacy, create a keywords extractor that should do the following things:\n",
    " - Take some text (article like) as an input.\n",
    " - Remove all stop words from the text.\n",
    " - Extract all the Nouns from text and sort them by count and return in descending order with amount of occurrences. \n",
    " - Extract all the Verbs from text and sort them by count and return in descending order with amount of occurrences.  \n",
    " - Extract all the Numbers from text and sort them by count and return in descending order with amount of occurrences. \n",
    " - Extract all the Named Entities from the text, group them into 4 groups (Location, Person, Organization, Misc.) and return groups in descending order with amount of occurrences. \n",
    "\n",
    "\n",
    "2. Using multilingual USE, align strings in English and Russian texts:\n",
    " - Download multilingual USE model - https://tfhub.dev/google/universal-sentence-encoder-multilingual/3\n",
    " - Read \"./data/corpora/en.txt\" and \"./data/corpora/ru.txt\" files\n",
    " - Align English strings with their Russian analogues using mUSE\n",
    " \n",
    " \n",
    "3. Using the USE, create a Duplicate Phrase Finder that will do the following:\n",
    " - Take some large text as an input.\n",
    " - Separates text to SENTENCES (phrases). \n",
    " - Finds semantically similar strings (cosine similarity >=0.80)"
   ],
   "metadata": {}
  },
  {
   "cell_type": "code",
   "execution_count": 40,
   "source": [
    "import spacy\r\n",
    "import gzip\r\n",
    "import gensim\r\n",
    "nlp = spacy.load(\"en_core_web_lg\")\r\n",
    "from nltk.tokenize import word_tokenize\r\n",
    "import pandas as pd\r\n",
    "import numpy as np"
   ],
   "outputs": [],
   "metadata": {}
  },
  {
   "cell_type": "code",
   "execution_count": 2,
   "source": [
    "text = '''\r\n",
    "Apple Inc. is an American multinational technology company that specializes in consumer electronics, computer software, and online services. Apple is the world's largest technology company by revenue (totaling $274.5 billion in 2020) and, since January 2021, the world's most valuable company. As of 2021, Apple is the world's fourth-largest PC vendor by unit sales,[9] and fourth-largest smartphone manufacturer.[10][11] It is one of the Big Five American information technology companies, along with Amazon, Google, Microsoft, and Facebook.[12][13][14]\r\n",
    "\r\n",
    "Apple was founded by Steve Jobs, Steve Wozniak, and Ronald Wayne in 1976 to develop and sell Wozniak's Apple I personal computer. It was incorporated by Jobs and Wozniak as Apple Computer, Inc. in 1977, and sales of its computers, including the Apple II, grew quickly. They went public in 1980 to instant financial success. Over the next few years, Apple shipped new computers featuring innovative graphical user interfaces, such as the original Macintosh, announced with the critically acclaimed advert \"1984\". However, the high price of its products and limited application library caused problems, as did power struggles between executives. In 1985, Wozniak departed Apple amicably,[15] while Jobs resigned to found NeXT, taking some Apple co-workers with him.[16]\r\n",
    "\r\n",
    "As the market for personal computers expanded and evolved through the 1990s, Apple lost considerable market share to the lower-priced duopoly of Microsoft Windows on Intel PC clones. The board recruited CEO Gil Amelio, who prepared the struggling company for eventual success with extensive reforms, product focus and layoffs in his 500 day tenure. In 1997, Gil bought NeXT, to resolve Apple's unsuccessful OS strategy and bring back Steve Jobs, who replaced Amelio as CEO later that year. Apple returned to profitability under the revitalizing \"Think different\" campaign, launching the iMac and iPod, opening a retail chain of Apple Stores in 2001, and acquiring numerous companies to broaden their software portfolio. In 2007, the company launched the iPhone to critical acclaim and financial success. In 2011, Jobs resigned as CEO due to health complications, and died two months later. He was succeeded by Tim Cook.\r\n",
    "\r\n",
    "In August 2018, Apple became the first publicly traded U.S. company to be valued at over $1 trillion[17][18] and the first valued over $2 trillion two years later.[19][20] It has a high level of brand loyalty and is ranked as the world's most valuable brand; as of January 2021, there are 1.65 billion Apple products in use worldwide.[21] However, the company receives significant criticism regarding the labor practices of its contractors, its environmental practices, and business ethics, including anti-competitive behavior, and materials sourcing.\r\n",
    "'''"
   ],
   "outputs": [],
   "metadata": {}
  },
  {
   "cell_type": "code",
   "execution_count": 3,
   "source": [
    "input_file = \"./data/reviews_data.txt.gz\"\r\n",
    "\r\n",
    "with gzip.open(input_file, 'rb') as f:\r\n",
    "    for i,line in enumerate (f):\r\n",
    "        ii = str(line)\r\n",
    "        break"
   ],
   "outputs": [],
   "metadata": {}
  },
  {
   "cell_type": "code",
   "execution_count": 4,
   "source": [
    "def key_ext(text):\r\n",
    "    all_stopwords = nlp.Defaults.stop_words\r\n",
    "    text_tokens = nlp.tokenizer(text)\r\n",
    "    text_t= ' '.join([str(word) for word in text_tokens if not word in all_stopwords])       \r\n",
    "\r\n",
    "    doc = nlp(text_t)\r\n",
    "\r\n",
    "\r\n",
    "    noun = []\r\n",
    "    for token in doc:\r\n",
    "        if token.pos_ == 'NOUN':\r\n",
    "            noun.append(token)\r\n",
    "\r\n",
    "    verb = []\r\n",
    "    for token in doc:\r\n",
    "        if token.pos_ == 'VERB':\r\n",
    "            verb.append(token)\r\n",
    "\r\n",
    "    number = []\r\n",
    "    for token in doc:\r\n",
    "        if token.pos_ == 'NUM':\r\n",
    "            number.append(token)\r\n",
    "\r\n",
    "    propn = []\r\n",
    "    for token in doc:\r\n",
    "        # print(token.text, token.pos_, token.dep_, token.head.text)\r\n",
    "        if token.pos_ == 'PROPN':\r\n",
    "            propn.append(token)\r\n",
    "    list_ext = [noun,verb,number,propn]\r\n",
    "    return list_ext"
   ],
   "outputs": [],
   "metadata": {}
  },
  {
   "cell_type": "code",
   "execution_count": null,
   "source": [],
   "outputs": [],
   "metadata": {}
  },
  {
   "cell_type": "code",
   "execution_count": 48,
   "source": [
    "l = (key_ext(text))"
   ],
   "outputs": [],
   "metadata": {}
  },
  {
   "cell_type": "code",
   "execution_count": 51,
   "source": [
    "z = list(map(list, zip(*l)))"
   ],
   "outputs": [],
   "metadata": {}
  },
  {
   "cell_type": "code",
   "execution_count": 52,
   "source": [
    "# df1 = pd.DataFrame(key_ext(text))\r\n",
    "df1 = pd.DataFrame(z, columns=['NOUN','VERB','NUM','PROPN'])\r\n"
   ],
   "outputs": [],
   "metadata": {}
  },
  {
   "cell_type": "code",
   "execution_count": 56,
   "source": [
    "df2 = pd.DataFrame(l, ['NOUN','VERB','NUM','PROPN'])"
   ],
   "outputs": [],
   "metadata": {}
  },
  {
   "cell_type": "code",
   "execution_count": 57,
   "source": [
    "df2"
   ],
   "outputs": [
    {
     "output_type": "execute_result",
     "data": {
      "text/html": [
       "<div>\n",
       "<style scoped>\n",
       "    .dataframe tbody tr th:only-of-type {\n",
       "        vertical-align: middle;\n",
       "    }\n",
       "\n",
       "    .dataframe tbody tr th {\n",
       "        vertical-align: top;\n",
       "    }\n",
       "\n",
       "    .dataframe thead th {\n",
       "        text-align: right;\n",
       "    }\n",
       "</style>\n",
       "<table border=\"1\" class=\"dataframe\">\n",
       "  <thead>\n",
       "    <tr style=\"text-align: right;\">\n",
       "      <th></th>\n",
       "      <th>0</th>\n",
       "      <th>1</th>\n",
       "      <th>2</th>\n",
       "      <th>3</th>\n",
       "      <th>4</th>\n",
       "      <th>5</th>\n",
       "      <th>6</th>\n",
       "      <th>7</th>\n",
       "      <th>8</th>\n",
       "      <th>9</th>\n",
       "      <th>...</th>\n",
       "      <th>88</th>\n",
       "      <th>89</th>\n",
       "      <th>90</th>\n",
       "      <th>91</th>\n",
       "      <th>92</th>\n",
       "      <th>93</th>\n",
       "      <th>94</th>\n",
       "      <th>95</th>\n",
       "      <th>96</th>\n",
       "      <th>97</th>\n",
       "    </tr>\n",
       "  </thead>\n",
       "  <tbody>\n",
       "    <tr>\n",
       "      <th>NOUN</th>\n",
       "      <td>technology</td>\n",
       "      <td>company</td>\n",
       "      <td>consumer</td>\n",
       "      <td>electronics</td>\n",
       "      <td>computer</td>\n",
       "      <td>software</td>\n",
       "      <td>services</td>\n",
       "      <td>world</td>\n",
       "      <td>technology</td>\n",
       "      <td>company</td>\n",
       "      <td>...</td>\n",
       "      <td>criticism</td>\n",
       "      <td>labor</td>\n",
       "      <td>practices</td>\n",
       "      <td>contractors</td>\n",
       "      <td>practices</td>\n",
       "      <td>business</td>\n",
       "      <td>ethics</td>\n",
       "      <td>behavior</td>\n",
       "      <td>materials</td>\n",
       "      <td>sourcing</td>\n",
       "    </tr>\n",
       "    <tr>\n",
       "      <th>VERB</th>\n",
       "      <td>specializes</td>\n",
       "      <td>totaling</td>\n",
       "      <td>founded</td>\n",
       "      <td>develop</td>\n",
       "      <td>sell</td>\n",
       "      <td>incorporated</td>\n",
       "      <td>including</td>\n",
       "      <td>grew</td>\n",
       "      <td>went</td>\n",
       "      <td>shipped</td>\n",
       "      <td>...</td>\n",
       "      <td>None</td>\n",
       "      <td>None</td>\n",
       "      <td>None</td>\n",
       "      <td>None</td>\n",
       "      <td>None</td>\n",
       "      <td>None</td>\n",
       "      <td>None</td>\n",
       "      <td>None</td>\n",
       "      <td>None</td>\n",
       "      <td>None</td>\n",
       "    </tr>\n",
       "    <tr>\n",
       "      <th>NUM</th>\n",
       "      <td>274.5</td>\n",
       "      <td>billion</td>\n",
       "      <td>2020</td>\n",
       "      <td>2021</td>\n",
       "      <td>2021</td>\n",
       "      <td>one</td>\n",
       "      <td>Five</td>\n",
       "      <td>1976</td>\n",
       "      <td>1977</td>\n",
       "      <td>1980</td>\n",
       "      <td>...</td>\n",
       "      <td>None</td>\n",
       "      <td>None</td>\n",
       "      <td>None</td>\n",
       "      <td>None</td>\n",
       "      <td>None</td>\n",
       "      <td>None</td>\n",
       "      <td>None</td>\n",
       "      <td>None</td>\n",
       "      <td>None</td>\n",
       "      <td>None</td>\n",
       "    </tr>\n",
       "    <tr>\n",
       "      <th>PROPN</th>\n",
       "      <td>Apple</td>\n",
       "      <td>Inc.</td>\n",
       "      <td>Apple</td>\n",
       "      <td>January</td>\n",
       "      <td>Apple</td>\n",
       "      <td>Amazon</td>\n",
       "      <td>Google</td>\n",
       "      <td>Microsoft</td>\n",
       "      <td>Facebook.[12][13][14</td>\n",
       "      <td>Apple</td>\n",
       "      <td>...</td>\n",
       "      <td>None</td>\n",
       "      <td>None</td>\n",
       "      <td>None</td>\n",
       "      <td>None</td>\n",
       "      <td>None</td>\n",
       "      <td>None</td>\n",
       "      <td>None</td>\n",
       "      <td>None</td>\n",
       "      <td>None</td>\n",
       "      <td>None</td>\n",
       "    </tr>\n",
       "  </tbody>\n",
       "</table>\n",
       "<p>4 rows × 98 columns</p>\n",
       "</div>"
      ],
      "text/plain": [
       "                0         1         2            3         4             5   \\\n",
       "NOUN    technology   company  consumer  electronics  computer      software   \n",
       "VERB   specializes  totaling   founded      develop      sell  incorporated   \n",
       "NUM          274.5   billion      2020         2021      2021           one   \n",
       "PROPN        Apple      Inc.     Apple      January     Apple        Amazon   \n",
       "\n",
       "              6          7                     8        9   ...         88  \\\n",
       "NOUN    services      world            technology  company  ...  criticism   \n",
       "VERB   including       grew                  went  shipped  ...       None   \n",
       "NUM         Five       1976                  1977     1980  ...       None   \n",
       "PROPN     Google  Microsoft  Facebook.[12][13][14    Apple  ...       None   \n",
       "\n",
       "          89         90           91         92        93      94        95  \\\n",
       "NOUN   labor  practices  contractors  practices  business  ethics  behavior   \n",
       "VERB    None       None         None       None      None    None      None   \n",
       "NUM     None       None         None       None      None    None      None   \n",
       "PROPN   None       None         None       None      None    None      None   \n",
       "\n",
       "              96        97  \n",
       "NOUN   materials  sourcing  \n",
       "VERB        None      None  \n",
       "NUM         None      None  \n",
       "PROPN       None      None  \n",
       "\n",
       "[4 rows x 98 columns]"
      ]
     },
     "metadata": {},
     "execution_count": 57
    }
   ],
   "metadata": {}
  },
  {
   "cell_type": "code",
   "execution_count": 15,
   "source": [
    "def show(text, i):\r\n",
    "    for t in key_ext(text):\r\n",
    "        print(len(t),t[:i])"
   ],
   "outputs": [],
   "metadata": {}
  },
  {
   "cell_type": "code",
   "execution_count": 8,
   "source": [
    "show(text, 10)"
   ],
   "outputs": [
    {
     "output_type": "stream",
     "name": "stdout",
     "text": [
      "98 [technology, company, consumer, electronics, computer, software, services, world, technology, company]\n",
      "47 [specializes, totaling, founded, develop, sell, incorporated, including, grew, went, shipped]\n",
      "26 [274.5, billion, 2020, 2021, 2021, one, Five, 1976, 1977, 1980]\n",
      "62 [Apple, Inc., Apple, January, Apple, Amazon, Google, Microsoft, Facebook.[12][13][14, Apple]\n"
     ]
    }
   ],
   "metadata": {}
  },
  {
   "cell_type": "code",
   "execution_count": null,
   "source": [],
   "outputs": [],
   "metadata": {}
  },
  {
   "cell_type": "code",
   "execution_count": null,
   "source": [],
   "outputs": [],
   "metadata": {}
  },
  {
   "cell_type": "code",
   "execution_count": null,
   "source": [
    "show(ii, 10)"
   ],
   "outputs": [],
   "metadata": {}
  },
  {
   "cell_type": "code",
   "execution_count": 14,
   "source": [
    "# print(spacy.explain(\"GPE\"))\r\n"
   ],
   "outputs": [],
   "metadata": {}
  },
  {
   "cell_type": "code",
   "execution_count": 17,
   "source": [
    "# Read \"./data/corpora/en.txt\" and \"./data/corpora/ru.txt\" files\r\n",
    "\r\n",
    "en = []\r\n",
    "ru = []\r\n",
    "with open(\"./data/corpora/en.txt\") as f:\r\n",
    "    for line in f.readlines()[:50]:\r\n",
    "        en.append(line.strip())\r\n",
    "        \r\n",
    "with open(\"./data/corpora/ru.txt\") as f:\r\n",
    "    for line in f.readlines()[:50]:\r\n",
    "        ru.append(line.strip()) "
   ],
   "outputs": [],
   "metadata": {}
  },
  {
   "cell_type": "code",
   "execution_count": 39,
   "source": [
    "en"
   ],
   "outputs": [
    {
     "output_type": "execute_result",
     "data": {
      "text/plain": [
       "['How do you explain this progression?',\n",
       " \"Cigarettes are linked to 85% of lung cancer cases, this massively damages people's health.\",\n",
       " 'Everything moves very fast in football',\n",
       " \"You're never going to win 4-0 every weekend - we're not FC Barcelona!\",\n",
       " 'We got out of Afghanistan.',\n",
       " 'French troops have left their area of responsibility in Afghanistan']"
      ]
     },
     "metadata": {},
     "execution_count": 39
    }
   ],
   "metadata": {}
  },
  {
   "cell_type": "code",
   "execution_count": 40,
   "source": [
    "ru"
   ],
   "outputs": [
    {
     "output_type": "execute_result",
     "data": {
      "text/plain": [
       "['Курение связано с 85% случаев рака легких. Оно наносит колоссальный вред здоровью людей.',\n",
       " 'В футболе все происходит очень быстро.',\n",
       " 'Французские войска покинули свою зону ответственности в Афганистане',\n",
       " 'Мы никогда не сможем выигрывать каждые выходные со счетом 4-0.',\n",
       " 'Мы ушли из Афганистана.',\n",
       " 'Как вы объясните этот рост?']"
      ]
     },
     "metadata": {},
     "execution_count": 40
    }
   ],
   "metadata": {}
  },
  {
   "cell_type": "code",
   "execution_count": null,
   "source": [],
   "outputs": [],
   "metadata": {}
  }
 ],
 "metadata": {
  "interpreter": {
   "hash": "ae22ff7b4990f16f2107899c7d411110cc54095c4c6bd2738b6d044e1b22e01d"
  },
  "kernelspec": {
   "name": "python3",
   "display_name": "Python 3.8.10 64-bit ('Test1': conda)"
  },
  "language_info": {
   "codemirror_mode": {
    "name": "ipython",
    "version": 3
   },
   "file_extension": ".py",
   "mimetype": "text/x-python",
   "name": "python",
   "nbconvert_exporter": "python",
   "pygments_lexer": "ipython3",
   "version": "3.8.10"
  }
 },
 "nbformat": 4,
 "nbformat_minor": 5
}